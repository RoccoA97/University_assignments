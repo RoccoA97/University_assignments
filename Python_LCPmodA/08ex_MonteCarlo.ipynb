{
 "cells": [
  {
   "cell_type": "markdown",
   "metadata": {},
   "source": [
    "# Index <a class=\"anchor\" id=\"08.i\"></a>\n",
    "\n",
    "* [Exercise 1](#08.1)\n",
    "* [Exercise 2](#08.2)\n",
    "* [Exercise 3](#08.3)\n",
    "* [Exercise 4](#08.4)\n",
    "* [Exercise 5](#08.5)"
   ]
  },
  {
   "cell_type": "markdown",
   "metadata": {},
   "source": [
    "1\\. **Radioactive decay chain**\n",
    "\n",
    "${\\rm Tl}^{208}$ decays to ${\\rm Pb}^{208}$ with a half-lieve of 3.052 minutes. Suppose to start with a sample of 1000 Thallium atoms and 0 of Lead atoms.\n",
    "\n",
    "* Take steps in time of 1 second and at each time-step decide whether each Tl atom has decayed or not, accordingly to the probability $p(t)=1-2^{-t/\\tau}$. Subtract the total number of Tl atoms that decayed at each step from the Tl sample and add them to the Lead one. Plot the evolution of the two sets as a function of time  \n",
    "* Repeat the exercise by means of the inverse transform method: draw 1000 random numbers from the non-uniform probability distribution $p(t)=2^{-t/\\tau}\\frac{\\ln 2}{\\tau}$ to represent the times of decay of the 1000 Tl atoms. Make a plot showing the number of atoms that have not decayed as a function of time"
   ]
  },
  {
   "cell_type": "markdown",
   "metadata": {},
   "source": [
    "## Exercise 1 <a class=\"anchor\" id=\"08.1\"></a>\n",
    "* [Index](#08.i)"
   ]
  },
  {
   "cell_type": "code",
   "execution_count": 1,
   "metadata": {},
   "outputs": [],
   "source": [
    "import numpy as np\n",
    "import random\n",
    "import pandas as pd\n",
    "from scipy import stats\n",
    "\n",
    "import matplotlib.pyplot as plt\n",
    "import seaborn as sns"
   ]
  },
  {
   "cell_type": "code",
   "execution_count": 2,
   "metadata": {},
   "outputs": [],
   "source": [
    "def prob_1(t,tau):\n",
    "    return 1 - 2.0**(-t/tau)"
   ]
  },
  {
   "cell_type": "code",
   "execution_count": 3,
   "metadata": {},
   "outputs": [],
   "source": [
    "N = 1000\n",
    "tau = 3.052*60\n",
    "ts = np.arange(0,3.052*60*5,1)\n",
    "\n",
    "th = np.ones(N)\n",
    "pb = np.zeros(N)\n",
    "\n",
    "n_th = []\n",
    "n_pb = []\n",
    "\n",
    "for t in ts:\n",
    "    for i in range(N):\n",
    "        # Each atom as the same probability of decaying after each step of 1s\n",
    "        if random.uniform(0, 1) < prob_1(1,tau):\n",
    "            th[i] = 0\n",
    "            pb[i] = 1\n",
    "    \n",
    "    n_th.append(np.sum(th))\n",
    "    n_pb.append(np.sum(pb))"
   ]
  },
  {
   "cell_type": "code",
   "execution_count": 4,
   "metadata": {},
   "outputs": [
    {
     "data": {
      "image/png": "[encoded data removed]",
      "text/plain": [
       "<Figure size 432x288 with 1 Axes>"
      ]
     },
     "metadata": {
      "needs_background": "light"
     },
     "output_type": "display_data"
    }
   ],
   "source": [
    "plt.plot(ts, n_th, label=\"$N_{Tl}$\")\n",
    "plt.plot(ts, n_pb, label=\"$N_{Pb}$\")\n",
    "plt.plot(ts, np.array(n_pb)+np.array(n_th), label=\"Total atoms\")\n",
    "plt.xlabel('t [s]')\n",
    "plt.ylabel('#atoms')\n",
    "plt.legend()\n",
    "plt.show()"
   ]
  },
  {
   "cell_type": "code",
   "execution_count": 5,
   "metadata": {},
   "outputs": [],
   "source": [
    "def prob_2(t,tau):\n",
    "    return 2.0**(-t/tau) * np.log(2.0) / tau\n",
    "\n",
    "def expon_icdf(p, tau):\n",
    "    \"\"\"Inverse CDF of exponential distribution - i.e. quantile function.\"\"\"\n",
    "    return - np.log(1-p) * tau / np.log(2.0)"
   ]
  },
  {
   "cell_type": "code",
   "execution_count": 6,
   "metadata": {},
   "outputs": [],
   "source": [
    "ts = np.zeros(N)\n",
    "\n",
    "for i in range(N):\n",
    "    p = random.uniform(0, 1)\n",
    "    ts[i] = expon_icdf(p,tau)"
   ]
  },
  {
   "cell_type": "code",
   "execution_count": 7,
   "metadata": {},
   "outputs": [],
   "source": [
    "ts = np.sort(ts)"
   ]
  },
  {
   "cell_type": "code",
   "execution_count": 8,
   "metadata": {},
   "outputs": [
    {
     "data": {
      "image/png": "[encoded data removed]",
      "text/plain": [
       "<Figure size 432x288 with 1 Axes>"
      ]
     },
     "metadata": {
      "needs_background": "light"
     },
     "output_type": "display_data"
    }
   ],
   "source": [
    "plt.plot(ts, range(999,-1,-1), 'o', markersize=0.5)\n",
    "plt.xlabel('t [s]')\n",
    "plt.ylabel('#atoms')\n",
    "plt.show()"
   ]
  },
  {
   "cell_type": "markdown",
   "metadata": {},
   "source": [
    "2\\. **Rutherford Scattering**\n",
    "\n",
    "The scattering angle $\\theta$ of $\\alpha$ particles hitting a positively charged nucleus of a Gold atom ($Z=79$) follows the rule:\n",
    "\n",
    "$$\n",
    "\\tan{\\frac{1}{2} \\theta} = \\frac{Z e^2} {2\\pi \\epsilon_0 E b}\n",
    "$$\n",
    "\n",
    "where $E=7.7$ MeV and $b$ beam is the impact parameter. The beam is represented by a 2D gaussian distribution with $\\sigma=a_0/100$ for both coordinates ($a_0$ being the Bohr radius). Assume 1 million $\\alpha$ particles are shot on the gold atom.\n",
    "\n",
    "Computing the fraction of particles that \"bounce back\",i.e. those particle whose scattering angle is greater than $\\pi/2$ (which set a condition on the impact parameter $b$)"
   ]
  },
  {
   "cell_type": "markdown",
   "metadata": {},
   "source": [
    "## Exercise 2 <a class=\"anchor\" id=\"08.2\"></a>\n",
    "* [Index](#08.i)"
   ]
  },
  {
   "cell_type": "code",
   "execution_count": 9,
   "metadata": {},
   "outputs": [],
   "source": [
    "import numpy as np\n",
    "import random\n",
    "import pandas as pd\n",
    "from scipy import stats\n",
    "\n",
    "import matplotlib.pyplot as plt\n",
    "import seaborn as sns"
   ]
  },
  {
   "cell_type": "code",
   "execution_count": 10,
   "metadata": {},
   "outputs": [],
   "source": [
    "N = 1000000\n",
    "a_0 = 52.9e3  # fm\n",
    "\n",
    "xs = np.random.normal(loc=0.0, scale=a_0/100.0, size=(N))\n",
    "ys = np.random.normal(loc=0.0, scale=a_0/100.0, size=(N))"
   ]
  },
  {
   "cell_type": "code",
   "execution_count": 11,
   "metadata": {},
   "outputs": [
    {
     "data": {
      "image/png": "[encoded data removed]",
      "text/plain": [
       "<Figure size 432x288 with 1 Axes>"
      ]
     },
     "metadata": {
      "needs_background": "light"
     },
     "output_type": "display_data"
    }
   ],
   "source": [
    "plt.scatter(xs, ys, alpha=0.7)\n",
    "plt.xlabel('x')\n",
    "plt.ylabel('y')\n",
    "plt.show()"
   ]
  },
  {
   "cell_type": "code",
   "execution_count": 12,
   "metadata": {},
   "outputs": [],
   "source": [
    "e2 = 1.44 * 2.0 # MeV*fm\n",
    "def theta(x,y, Z=79, E=7.7):\n",
    "    b = np.sqrt(x*x + y*y)\n",
    "    f = (Z*e2) / (E*b)\n",
    "    return 2 * np.arctan(f)"
   ]
  },
  {
   "cell_type": "code",
   "execution_count": 13,
   "metadata": {},
   "outputs": [],
   "source": [
    "thetas = theta(xs, ys)"
   ]
  },
  {
   "cell_type": "code",
   "execution_count": 14,
   "metadata": {},
   "outputs": [
    {
     "data": {
      "image/png": "[encoded data removed]",
      "text/plain": [
       "<Figure size 432x288 with 1 Axes>"
      ]
     },
     "metadata": {
      "needs_background": "light"
     },
     "output_type": "display_data"
    }
   ],
   "source": [
    "plt.hist(thetas, bins=500)\n",
    "plt.yscale('log')\n",
    "plt.axvline(np.pi/2.0, color='red')\n",
    "plt.xlabel(r'$\\theta$')\n",
    "plt.ylabel('Counts')\n",
    "plt.show()"
   ]
  },
  {
   "cell_type": "code",
   "execution_count": 15,
   "metadata": {},
   "outputs": [
    {
     "name": "stdout",
     "output_type": "stream",
     "text": [
      "1614\n"
     ]
    }
   ],
   "source": [
    "thetas_bounced = thetas[(thetas >= np.pi/2.0)]\n",
    "print(thetas_bounced.shape[0])"
   ]
  },
  {
   "cell_type": "markdown",
   "metadata": {},
   "source": [
    "3\\. **Monte Carlo integration: hit/miss vs mean value method**\n",
    "\n",
    "Consider the function \n",
    "\n",
    "$$f(x) =\\sin^2{\\frac{1}{x(2-x)}}$$\n",
    "\n",
    "* Compute the integral of $f(x)$ between 0 and 2 with the hit/miss method. Evaluate the error of your estimate\n",
    "* Repeat the integral with the mean value method. Evaluate the error and compare it with the previous one"
   ]
  },
  {
   "cell_type": "markdown",
   "metadata": {},
   "source": [
    "## Exercise 3 <a class=\"anchor\" id=\"08.3\"></a>\n",
    "* [Index](#08.i)"
   ]
  },
  {
   "cell_type": "code",
   "execution_count": 16,
   "metadata": {},
   "outputs": [],
   "source": [
    "import numpy as np\n",
    "import random\n",
    "import pandas as pd\n",
    "from scipy import stats\n",
    "\n",
    "import matplotlib.pyplot as plt\n",
    "import seaborn as sns"
   ]
  },
  {
   "cell_type": "code",
   "execution_count": 17,
   "metadata": {},
   "outputs": [
    {
     "data": {
      "image/png": "[encoded data removed]",
      "text/plain": [
       "<Figure size 432x288 with 1 Axes>"
      ]
     },
     "metadata": {
      "needs_background": "light"
     },
     "output_type": "display_data"
    }
   ],
   "source": [
    "def f(x):\n",
    "    return (np.sin(1/(x*(2-x))))**2\n",
    "\n",
    "x=np.linspace(0.001,1.999,1000)\n",
    "plt.xlabel('x')\n",
    "plt.ylabel('f(x)')\n",
    "plt.plot(x,f(x),'r-')\n",
    "plt.show()"
   ]
  },
  {
   "cell_type": "code",
   "execution_count": 18,
   "metadata": {},
   "outputs": [],
   "source": [
    "def I_hit_miss(N):\n",
    "    x=np.random.uniform(0.0, 2.0, size=N)\n",
    "    y=np.random.uniform(0.0, 1.0, size=N)\n",
    "    hit = y[y<f(x)]\n",
    "    k = hit.shape[0]\n",
    "    I=2.0 * k/N\n",
    "    return I"
   ]
  },
  {
   "cell_type": "code",
   "execution_count": 19,
   "metadata": {},
   "outputs": [],
   "source": [
    "Ns = []\n",
    "Is = []\n",
    "for N in [10**i for i in range(3,9)]:\n",
    "    Ns.append(N)\n",
    "    Is.append(I_hit_miss(N))"
   ]
  },
  {
   "cell_type": "code",
   "execution_count": 20,
   "metadata": {},
   "outputs": [
    {
     "data": {
      "image/png": "[encoded data removed]",
      "text/plain": [
       "<Figure size 432x288 with 1 Axes>"
      ]
     },
     "metadata": {
      "needs_background": "light"
     },
     "output_type": "display_data"
    }
   ],
   "source": [
    "plt.plot(Ns,Is,'o')\n",
    "plt.xlabel('N')\n",
    "plt.ylabel('I')\n",
    "plt.xscale('log')\n",
    "plt.show()"
   ]
  },
  {
   "cell_type": "code",
   "execution_count": 21,
   "metadata": {},
   "outputs": [],
   "source": [
    "Is = []\n",
    "N = 100000\n",
    "for i in range(1000):\n",
    "    Is.append(I_hit_miss(N))\n",
    "Is = np.array(Is)\n",
    "err_I_hm = np.std(Is)"
   ]
  },
  {
   "cell_type": "code",
   "execution_count": 22,
   "metadata": {},
   "outputs": [
    {
     "name": "stdout",
     "output_type": "stream",
     "text": [
      "0.0026730124063311035\n"
     ]
    }
   ],
   "source": [
    "print(err_I_hm)"
   ]
  },
  {
   "cell_type": "code",
   "execution_count": 23,
   "metadata": {},
   "outputs": [],
   "source": [
    "def I_mean_value(N):\n",
    "    x=np.random.uniform(0.0, 2.0, size=N)\n",
    "    y = f(x)\n",
    "    std_y = np.std(y)\n",
    "    err = 2 * std_y / np.sqrt(N)\n",
    "    return 2.0*np.mean(y), err"
   ]
  },
  {
   "cell_type": "code",
   "execution_count": 24,
   "metadata": {},
   "outputs": [
    {
     "name": "stdout",
     "output_type": "stream",
     "text": [
      "Integral computed with hit or miss   : 1.44922\n",
      "Error for I computed with hit or miss: 0.0026730124063311035\n",
      "Integral computed with mean value    : 1.4501590443904309\n",
      "Error for I computed with mean value : 0.0016666401874589633\n"
     ]
    }
   ],
   "source": [
    "I_hm = I_hit_miss(N)\n",
    "I_mv, err_I_mv = I_mean_value(N)\n",
    "print(\"Integral computed with hit or miss   :\", I_hm)\n",
    "print(\"Error for I computed with hit or miss:\", err_I_hm)\n",
    "print(\"Integral computed with mean value    :\", I_mv)\n",
    "print(\"Error for I computed with mean value :\", err_I_mv)"
   ]
  },
  {
   "cell_type": "markdown",
   "metadata": {},
   "source": [
    "4\\. **Monte Carlo integration in high dimension**\n",
    "\n",
    "* Start of by computing the area of a circle of unit radius, by integrating the function \n",
    "\n",
    "$$\n",
    "f(x,y)=\n",
    "\\left\\{\n",
    "\\begin{array}{ll}\n",
    "      1 & x^2+y^2\\le 1 \\\\\n",
    "      0 & {\\rm elsewhere}\n",
    "\\end{array} \n",
    "\\right.\n",
    "$$\n",
    "\n",
    "* Generalize the result for a 10D sphere\n",
    "\n"
   ]
  },
  {
   "cell_type": "markdown",
   "metadata": {},
   "source": [
    "## Exercise 4 <a class=\"anchor\" id=\"08.4\"></a>\n",
    "* [Index](#08.i)"
   ]
  },
  {
   "cell_type": "code",
   "execution_count": 25,
   "metadata": {},
   "outputs": [],
   "source": [
    "import numpy as np\n",
    "import random\n",
    "import pandas as pd\n",
    "from scipy import stats\n",
    "\n",
    "import matplotlib.pyplot as plt\n",
    "import seaborn as sns"
   ]
  },
  {
   "cell_type": "code",
   "execution_count": 26,
   "metadata": {},
   "outputs": [],
   "source": [
    "def f(x):\n",
    "    x2 = np.sum(x**2)\n",
    "    if x2 <= 1:\n",
    "        return 1\n",
    "    else:\n",
    "        return 0\n",
    "        \n",
    "\n",
    "def I_sphere(N,dim):\n",
    "    xs = np.random.uniform(-1.0, 1.0, size=(N,dim))\n",
    "    fs = np.zeros(N)\n",
    "    for i in range(N):\n",
    "        fs[i] = f(xs[i])\n",
    "    V = (2.0**dim)*np.mean(fs)\n",
    "    return V"
   ]
  },
  {
   "cell_type": "code",
   "execution_count": 27,
   "metadata": {},
   "outputs": [
    {
     "name": "stdout",
     "output_type": "stream",
     "text": [
      " 2-D: V= 3.141732\n",
      "10-D: V= 2.581504\n"
     ]
    }
   ],
   "source": [
    "V_2  = I_sphere(1000000,2 )\n",
    "V_10 = I_sphere(1000000,10)\n",
    "\n",
    "print(\" 2-D: V=\", V_2 )\n",
    "print(\"10-D: V=\", V_10)"
   ]
  },
  {
   "cell_type": "markdown",
   "metadata": {},
   "source": [
    "5\\. **Monte Carlo integration with importance sampling** \n",
    "\n",
    "Calculate the value of the integral:\n",
    "\n",
    "$$\n",
    "I=\\int_0^1 \\frac{x^{-1/2}}{e^x+1} dx\n",
    "$$\n",
    "\n",
    "using the importance sampling method with $w(x)=1/\\sqrt{x}$. You should get a result about 0.84"
   ]
  },
  {
   "cell_type": "markdown",
   "metadata": {},
   "source": [
    "## Exercise 5 <a class=\"anchor\" id=\"08.5\"></a>\n",
    "* [Index](#08.i)"
   ]
  },
  {
   "cell_type": "code",
   "execution_count": 28,
   "metadata": {},
   "outputs": [],
   "source": [
    "import numpy as np\n",
    "import random\n",
    "import pandas as pd\n",
    "from scipy import stats\n",
    "\n",
    "import matplotlib.pyplot as plt\n",
    "import seaborn as sns"
   ]
  },
  {
   "cell_type": "code",
   "execution_count": 29,
   "metadata": {},
   "outputs": [],
   "source": [
    "def w(x):\n",
    "    return 1.0 / np.sqrt(x)\n",
    "\n",
    "def inv_tr_w(x):\n",
    "    return x*x / 4.0\n",
    "\n",
    "def I_w(a, b):\n",
    "    return 2.0 * (np.sqrt(b) - np.sqrt(a))\n",
    "\n",
    "def f(x):\n",
    "    return x**(-0.5) / (np.exp(x) + 1)\n",
    "\n",
    "def I_imp_samp(N, a, b):\n",
    "    xs = np.random.uniform(a, b, size=N)\n",
    "    ws = inv_tr_w(x)\n",
    "    frac = f(ws) / w(ws)\n",
    "    return np.mean(frac) * 2.0 #I_w(a,b)"
   ]
  },
  {
   "cell_type": "code",
   "execution_count": 30,
   "metadata": {},
   "outputs": [
    {
     "name": "stdout",
     "output_type": "stream",
     "text": [
      "0.8389329927820404\n"
     ]
    }
   ],
   "source": [
    "N = 1000000\n",
    "I = I_imp_samp(N,0,1.0)\n",
    "print(I)"
   ]
  }
 ],
 "metadata": {
  "kernelspec": {
   "display_name": "Python 3",
   "language": "python",
   "name": "python3"
  },
  "language_info": {
   "codemirror_mode": {
    "name": "ipython",
    "version": 3
   },
   "file_extension": ".py",
   "mimetype": "text/x-python",
   "name": "python",
   "nbconvert_exporter": "python",
   "pygments_lexer": "ipython3",
   "version": "3.7.6"
  }
 },
 "nbformat": 4,
 "nbformat_minor": 4
}
