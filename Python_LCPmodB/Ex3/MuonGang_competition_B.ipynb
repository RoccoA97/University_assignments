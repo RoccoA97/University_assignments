{
 "cells": [
  {
   "cell_type": "code",
   "execution_count": 1,
   "metadata": {},
   "outputs": [
    {
     "name": "stderr",
     "output_type": "stream",
     "text": [
      "Using TensorFlow backend.\n"
     ]
    }
   ],
   "source": [
    "import random\n",
    "import math \n",
    "import matplotlib.pyplot as plt\n",
    "import os\n",
    "os.environ[\"CUDA_VISIBLE_DEVICES\"] = \"-1\"\n",
    "\n",
    "import csv\n",
    "import os\n",
    "import subprocess\n",
    "\n",
    "import tensorflow as tf\n",
    "import keras\n",
    "import numpy as np\n",
    "import matplotlib.pyplot as plt\n",
    "from keras.models import Sequential\n",
    "from keras.layers import Dense, Dropout, Flatten \n",
    "from keras.layers import Conv1D, MaxPooling1D, AveragePooling1D\n",
    "\n",
    "from keras import initializers, regularizers\n",
    "from keras import optimizers \n",
    "\n",
    "#import seaborn \n",
    "from sklearn import metrics\n",
    "\n",
    "from sklearn.model_selection import GridSearchCV\n",
    "from keras.wrappers.scikit_learn import KerasClassifier\n",
    "from keras import optimizers\n",
    "from keras.models import load_model"
   ]
  },
  {
   "cell_type": "code",
   "execution_count": 2,
   "metadata": {},
   "outputs": [],
   "source": [
    "fnamex='timeseries_competition.csv'\n",
    "\n",
    "x = np.loadtxt(fnamex, delimiter=',', dtype=float)\n",
    "N = len(x)    \n",
    "xm = x.mean(axis=1)\n",
    "for i in range(N):\n",
    "    x[i] = (x[i]-xm[i])\n",
    "sc = np.abs(x.max())\n",
    "x /= sc \n",
    "\n",
    "L = len(x[0])\n",
    "x = x.reshape(x.shape[0],L,1)\n",
    "input_shape=(L,1)\n"
   ]
  },
  {
   "cell_type": "code",
   "execution_count": 3,
   "metadata": {},
   "outputs": [],
   "source": [
    "model=load_model(\"MuonGang_parameters_B.hdf5\")\n",
    "y=model.predict_classes(x)\n",
    "\n",
    "import csv \n",
    "with open('MuonGang_prediction_B.csv',mode='w') as myfile:\n",
    "    writer = csv.writer(myfile,delimiter=',')\n",
    "    for i in range(N):\n",
    "        writer.writerow((y[i],))"
   ]
  },
  {
   "cell_type": "code",
   "execution_count": null,
   "metadata": {},
   "outputs": [],
   "source": []
  }
 ],
 "metadata": {
  "kernelspec": {
   "display_name": "Python 3",
   "language": "python",
   "name": "python3"
  },
  "language_info": {
   "codemirror_mode": {
    "name": "ipython",
    "version": 3
   },
   "file_extension": ".py",
   "mimetype": "text/x-python",
   "name": "python",
   "nbconvert_exporter": "python",
   "pygments_lexer": "ipython3",
   "version": "3.7.3"
  }
 },
 "nbformat": 4,
 "nbformat_minor": 2
}
