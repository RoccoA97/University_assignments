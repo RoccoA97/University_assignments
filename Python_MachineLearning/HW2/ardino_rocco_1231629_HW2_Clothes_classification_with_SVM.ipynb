{
 "cells": [
  {
   "cell_type": "markdown",
   "metadata": {},
   "source": [
    "# Clothes Classification with Support Vector Machines\n",
    "\n",
    "In this notebook we are going to explore the use of Support Vector Machines (SVM) for image classification. We are going to use a new version of the famous MNIST dataset (the original is a dataset of handwritten digits). The version we are going to use is called Fashion MNIST (https://pravarmahajan.github.io/fashion/) and is a dataset of small images of clothes and accessories.\n",
    "\n",
    "\n",
    "\n",
    "The dataset labels are the following:\n",
    "\n",
    "| Label | Description |\n",
    "| --- | --- |\n",
    "| 0 | T-shirt/top |\n",
    "| 1 | Trouser |\n",
    "| 2 | Pullover |\n",
    "| 3 | Dress |\n",
    "| 4 | Coat |\n",
    "| 5 | Sandal |\n",
    "| 6 | Shirt |\n",
    "| 7 | Sneaker |\n",
    "| 8 | Bag |\n",
    "| 9 | Ankle boot |"
   ]
  },
  {
   "cell_type": "markdown",
   "metadata": {},
   "source": [
    "## TODO: Insert your surname, name and ID number\n",
    "\n",
    "Student name: <b>Ardino Rocco</b>\n",
    "    \n",
    "ID: <b>1231629</b>"
   ]
  },
  {
   "cell_type": "code",
   "execution_count": 1,
   "metadata": {},
   "outputs": [],
   "source": [
    "#load the required packages\n",
    "\n",
    "%matplotlib inline  \n",
    "\n",
    "import numpy as np\n",
    "import scipy as sp\n",
    "import matplotlib.pyplot as plt\n",
    "\n",
    "import sklearn\n",
    "from sklearn.datasets import fetch_mldata\n",
    "from sklearn.neural_network import MLPClassifier\n",
    "import sklearn.metrics as skm"
   ]
  },
  {
   "cell_type": "code",
   "execution_count": 2,
   "metadata": {},
   "outputs": [],
   "source": [
    "# helper function to load Fashion MNIST dataset\n",
    "def load_mnist(path, kind='train'):\n",
    "    import os\n",
    "    import gzip\n",
    "    import numpy as np\n",
    "    labels_path = os.path.join(path, '%s-labels-idx1-ubyte.gz' % kind)\n",
    "    images_path = os.path.join(path, '%s-images-idx3-ubyte.gz' % kind)\n",
    "    with gzip.open(labels_path, 'rb') as lbpath:\n",
    "        labels = np.frombuffer(lbpath.read(), dtype=np.uint8,offset=8)\n",
    "    with gzip.open(images_path, 'rb') as imgpath:\n",
    "        images = np.frombuffer(imgpath.read(), dtype=np.uint8,offset=16).reshape(len(labels), 784)\n",
    "    return images, labels"
   ]
  },
  {
   "cell_type": "code",
   "execution_count": 3,
   "metadata": {},
   "outputs": [],
   "source": [
    "#fix your ID (\"numero di matricola\") and the seed for random generator (as usual you can try different seeds)\n",
    "ID = 1231629 #Place your ID/seed\n",
    "np.random.seed(ID)"
   ]
  },
  {
   "cell_type": "code",
   "execution_count": 4,
   "metadata": {},
   "outputs": [
    {
     "name": "stdout",
     "output_type": "stream",
     "text": [
      "(60000, 784) (60000,)\n"
     ]
    }
   ],
   "source": [
    "#load the Fashion MNIST dataset from the 'data' folder and let's normalize the features so that each value is in [0,1] \n",
    "\n",
    "X, y = load_mnist('data', kind='train')\n",
    "# rescale the data\n",
    "X, y = X / 255., y # original pixel values are between 0 and 255\n",
    "print(X.shape, y.shape)"
   ]
  },
  {
   "cell_type": "markdown",
   "metadata": {},
   "source": [
    "Now split into training and test. Make sure that each label is present at least 10 times\n",
    "in training. If it is not, then keep adding permutations to the initial data until this \n",
    "happens."
   ]
  },
  {
   "cell_type": "code",
   "execution_count": 5,
   "metadata": {},
   "outputs": [
    {
     "name": "stdout",
     "output_type": "stream",
     "text": [
      "Labels in training dataset:  [0 1 2 3 4 5 6 7 8 9]\n",
      "Frequencies in training dataset:  [43 49 58 38 59 43 47 59 54 50]\n"
     ]
    }
   ],
   "source": [
    "#random permute the data and split into training and test taking the first 500\n",
    "#data samples as training and the rests as test\n",
    "permutation = np.random.permutation(X.shape[0])\n",
    "\n",
    "X = X[permutation]\n",
    "y = y[permutation]\n",
    "\n",
    "m_training = 500\n",
    "\n",
    "X_train, X_test = X[:m_training], X[m_training:]\n",
    "y_train, y_test = y[:m_training], y[m_training:]\n",
    "\n",
    "labels, freqs = np.unique(y_train, return_counts=True)\n",
    "print(\"Labels in training dataset: \", labels)\n",
    "print(\"Frequencies in training dataset: \", freqs)"
   ]
  },
  {
   "cell_type": "code",
   "execution_count": 6,
   "metadata": {},
   "outputs": [],
   "source": [
    "#function for plotting a image and printing the corresponding label\n",
    "def plot_input(X_matrix, labels, index):\n",
    "    print(\"INPUT:\")\n",
    "    plt.imshow(\n",
    "        X_matrix[index].reshape(28,28),\n",
    "        cmap          = plt.cm.gray_r,\n",
    "        interpolation = \"nearest\"\n",
    "    )\n",
    "    plt.show()\n",
    "    print(\"LABEL: %i\"%labels[index])\n",
    "    return"
   ]
  },
  {
   "cell_type": "code",
   "execution_count": 7,
   "metadata": {},
   "outputs": [
    {
     "name": "stdout",
     "output_type": "stream",
     "text": [
      "INPUT:\n"
     ]
    },
    {
     "data": {
      "image/png": "[encoded data removed]",
      "text/plain": [
       "<Figure size 432x288 with 1 Axes>"
      ]
     },
     "metadata": {
      "needs_background": "light"
     },
     "output_type": "display_data"
    },
    {
     "name": "stdout",
     "output_type": "stream",
     "text": [
      "LABEL: 3\n",
      "INPUT:\n"
     ]
    },
    {
     "data": {
      "image/png": "[encoded data removed]",
      "text/plain": [
       "<Figure size 432x288 with 1 Axes>"
      ]
     },
     "metadata": {
      "needs_background": "light"
     },
     "output_type": "display_data"
    },
    {
     "name": "stdout",
     "output_type": "stream",
     "text": [
      "LABEL: 8\n",
      "INPUT:\n"
     ]
    },
    {
     "data": {
      "image/png": "[encoded data removed]",
      "text/plain": [
       "<Figure size 432x288 with 1 Axes>"
      ]
     },
     "metadata": {
      "needs_background": "light"
     },
     "output_type": "display_data"
    },
    {
     "name": "stdout",
     "output_type": "stream",
     "text": [
      "LABEL: 4\n",
      "INPUT:\n"
     ]
    },
    {
     "data": {
      "image/png": "[encoded data removed]",
      "text/plain": [
       "<Figure size 432x288 with 1 Axes>"
      ]
     },
     "metadata": {
      "needs_background": "light"
     },
     "output_type": "display_data"
    },
    {
     "name": "stdout",
     "output_type": "stream",
     "text": [
      "LABEL: 1\n"
     ]
    }
   ],
   "source": [
    "#let's try the plotting function\n",
    "plot_input(X_train,y_train,5)\n",
    "plot_input(X_test,y_test,50)\n",
    "plot_input(X_test,y_test,500)\n",
    "plot_input(X_test,y_test,5000)"
   ]
  },
  {
   "cell_type": "markdown",
   "metadata": {},
   "source": [
    "## TO DO 1\n",
    "Use a SVM classifier with cross validation to pick a model. Use a 4-fold cross-validation. Let's start with a Linear kernel:"
   ]
  },
  {
   "cell_type": "code",
   "execution_count": 8,
   "metadata": {},
   "outputs": [
    {
     "name": "stderr",
     "output_type": "stream",
     "text": [
      "C:\\Users\\39349\\Anaconda3\\lib\\site-packages\\sklearn\\model_selection\\_search.py:814: DeprecationWarning: The default of the `iid` parameter will change from True to False in version 0.22 and will be removed in 0.24. This will change numeric results when test-set sizes are unequal.\n",
      "  DeprecationWarning)\n"
     ]
    },
    {
     "name": "stdout",
     "output_type": "stream",
     "text": [
      "RESULTS FOR LINEAR KERNEL\n",
      "Best parameters set found:\n",
      "{'C': 0.05}\n",
      "Score with best parameters:\n",
      "0.822\n",
      "All scores on the grid:\n",
      "[0.386 0.776 0.822 0.806 0.806 0.806 0.806]\n"
     ]
    }
   ],
   "source": [
    "#import SVC\n",
    "from sklearn.svm import SVC\n",
    "#import for Cross-Validation\n",
    "from sklearn.model_selection import GridSearchCV\n",
    "\n",
    "# parameters for linear SVM\n",
    "parameters = {'C': [0.0005, 0.005, 0.05, 0.5, 5, 50, 500]}\n",
    "\n",
    "#run linear SVM\n",
    "lin = SVC(kernel='linear')\n",
    "clf_lin = GridSearchCV(lin, parameters, cv=4)\n",
    "clf_lin.fit(X_train, y_train)\n",
    "\n",
    "#ADD YOUR CODE\n",
    "\n",
    "\n",
    "print ('RESULTS FOR LINEAR KERNEL')\n",
    "\n",
    "print(\"Best parameters set found:\")\n",
    "#ADD YOUR CODE\n",
    "print(clf_lin.best_params_)\n",
    "\n",
    "print(\"Score with best parameters:\")\n",
    "#ADD YOUR CODE\n",
    "print(clf_lin.best_score_)\n",
    "\n",
    "print(\"All scores on the grid:\")\n",
    "#ADD YOUR CODE\n",
    "print(clf_lin.cv_results_['mean_test_score'])"
   ]
  },
  {
   "cell_type": "markdown",
   "metadata": {},
   "source": [
    "## TO DO 2\n",
    "Pick a model for the Polynomial kernel with degree=2:"
   ]
  },
  {
   "cell_type": "code",
   "execution_count": 9,
   "metadata": {},
   "outputs": [
    {
     "name": "stderr",
     "output_type": "stream",
     "text": [
      "C:\\Users\\39349\\Anaconda3\\lib\\site-packages\\sklearn\\model_selection\\_search.py:814: DeprecationWarning: The default of the `iid` parameter will change from True to False in version 0.22 and will be removed in 0.24. This will change numeric results when test-set sizes are unequal.\n",
      "  DeprecationWarning)\n"
     ]
    },
    {
     "name": "stdout",
     "output_type": "stream",
     "text": [
      "RESULTS FOR POLY DEGREE=2 KERNEL\n",
      "Best parameters set found:\n",
      "{'C': 0.05, 'gamma': 0.5}\n",
      "Score with best parameters:\n",
      "0.796\n",
      "\n",
      "All scores on the grid:\n",
      "[0.794 0.796 0.796 0.796 0.796 0.796 0.796 0.796 0.796]\n"
     ]
    }
   ],
   "source": [
    "# parameters for poly with degree 2 kernel\n",
    "parameters = {'C': [0.05, 0.5, 5],'gamma':[0.05,0.5,5.]}\n",
    "\n",
    "#run SVM with poly of degree 2 kernel\n",
    "\n",
    "#ADD YOUR CODE\n",
    "pol2 = SVC(kernel='poly', degree=2)\n",
    "clf_pol2 = GridSearchCV(pol2, parameters, cv=4)\n",
    "clf_pol2.fit(X_train, y_train)\n",
    "\n",
    "print ('RESULTS FOR POLY DEGREE=2 KERNEL')\n",
    "\n",
    "print(\"Best parameters set found:\")\n",
    "#ADD YOUR CODE\n",
    "print(clf_pol2.best_params_)\n",
    "\n",
    "print(\"Score with best parameters:\")\n",
    "#ADD YOUR CODE\n",
    "print(clf_pol2.best_score_)\n",
    "\n",
    "print(\"\\nAll scores on the grid:\")\n",
    "#ADD YOUR CODE\n",
    "print(clf_pol2.cv_results_['mean_test_score'])"
   ]
  },
  {
   "cell_type": "markdown",
   "metadata": {},
   "source": [
    "## TO DO 3\n",
    "\n",
    "Now let's try a higher degree for the polynomial kernel."
   ]
  },
  {
   "cell_type": "code",
   "execution_count": 10,
   "metadata": {},
   "outputs": [
    {
     "name": "stderr",
     "output_type": "stream",
     "text": [
      "C:\\Users\\39349\\Anaconda3\\lib\\site-packages\\sklearn\\model_selection\\_search.py:814: DeprecationWarning: The default of the `iid` parameter will change from True to False in version 0.22 and will be removed in 0.24. This will change numeric results when test-set sizes are unequal.\n",
      "  DeprecationWarning)\n"
     ]
    },
    {
     "name": "stdout",
     "output_type": "stream",
     "text": [
      "RESULTS FOR POLY DEGREE= 3  KERNEL\n",
      "Best parameters set found:\n",
      "{'C': 0.05, 'gamma': 0.05}\n",
      "Score with best parameters:\n",
      "0.778\n",
      "\n",
      "All scores on the grid:\n",
      "[0.778 0.77  0.77  0.774 0.77  0.77  0.77  0.77  0.77 ]\n"
     ]
    }
   ],
   "source": [
    "# parameters for poly with higher degree kernel\n",
    "parameters = {'C': [0.05, 0.5, 5],'gamma':[0.05,0.5,5.]}\n",
    "\n",
    "#run SVM with poly of higher degree kernel\n",
    "degree = 3\n",
    "\n",
    "#ADD YOUR CODE\n",
    "pol3 = SVC(kernel='poly', degree=degree)\n",
    "clf_pol3 = GridSearchCV(pol3, parameters, cv=4)\n",
    "clf_pol3.fit(X_train, y_train)\n",
    "\n",
    "print ('RESULTS FOR POLY DEGREE=', degree, ' KERNEL')\n",
    "\n",
    "print(\"Best parameters set found:\")\n",
    "#ADD YOUR CODE\n",
    "print(clf_pol3.best_params_)\n",
    "\n",
    "print(\"Score with best parameters:\")\n",
    "#ADD YOUR CODE\n",
    "print(clf_pol3.best_score_)\n",
    "\n",
    "print(\"\\nAll scores on the grid:\")\n",
    "#ADD YOUR CODE\n",
    "print(clf_pol3.cv_results_['mean_test_score'])"
   ]
  },
  {
   "cell_type": "markdown",
   "metadata": {},
   "source": [
    "## TO DO 4\n",
    "Pick a model for the Radial Basis Function kernel:"
   ]
  },
  {
   "cell_type": "code",
   "execution_count": 11,
   "metadata": {},
   "outputs": [
    {
     "name": "stdout",
     "output_type": "stream",
     "text": [
      "RESULTS FOR rbf KERNEL\n",
      "Best parameters set found:\n",
      "{'C': 5, 'gamma': 0.005}\n",
      "Score with best parameters:\n",
      "0.816\n",
      "\n",
      "All scores on the grid:\n",
      "[0.76  0.698 0.126 0.188 0.816 0.766 0.15  0.124 0.814 0.766 0.15  0.124\n",
      " 0.814 0.766 0.15  0.124]\n"
     ]
    },
    {
     "name": "stderr",
     "output_type": "stream",
     "text": [
      "C:\\Users\\39349\\Anaconda3\\lib\\site-packages\\sklearn\\model_selection\\_search.py:814: DeprecationWarning: The default of the `iid` parameter will change from True to False in version 0.22 and will be removed in 0.24. This will change numeric results when test-set sizes are unequal.\n",
      "  DeprecationWarning)\n"
     ]
    }
   ],
   "source": [
    "# parameters for rbf SVM\n",
    "parameters = {'C': [0.5, 5, 50, 500],'gamma':[0.005, 0.05, 0.5,5]}\n",
    "\n",
    "#run SVM with rbf kernel\n",
    "\n",
    "#ADD YOUR CODE\n",
    "rbf = SVC(kernel='rbf')\n",
    "clf_rbf = GridSearchCV(rbf, parameters, cv=4)\n",
    "clf_rbf.fit(X_train, y_train)\n",
    "\n",
    "print ('RESULTS FOR rbf KERNEL')\n",
    "\n",
    "print(\"Best parameters set found:\")\n",
    "#ADD YOUR CODE\n",
    "print(clf_rbf.best_params_)\n",
    "\n",
    "print(\"Score with best parameters:\")\n",
    "#ADD YOUR CODE\n",
    "print(clf_rbf.best_score_)\n",
    "\n",
    "print(\"\\nAll scores on the grid:\")\n",
    "#ADD YOUR CODE\n",
    "print(clf_rbf.cv_results_['mean_test_score'])"
   ]
  },
  {
   "cell_type": "markdown",
   "metadata": {},
   "source": [
    "## TO DO5\n",
    "What do you observe when using RBF and polynomial kernels on this dataset ?\n",
    "\n",
    "### ANSWER TO THE QUESTION"
   ]
  },
  {
   "cell_type": "markdown",
   "metadata": {},
   "source": [
    "The best result is obtained with rbf kernel. In this case, the best score ($\\sim 0.784$) is obtained with $C=50$ and $\\gamma = 0.005$. However, the scores for every kernel are not so different, in particular, it is possible to see that the score decreases when the degree of the polinomial kernel increases."
   ]
  },
  {
   "cell_type": "markdown",
   "metadata": {},
   "source": [
    "## TO DO 6\n",
    "Report here the best SVM kernel and parameters"
   ]
  },
  {
   "cell_type": "code",
   "execution_count": 12,
   "metadata": {},
   "outputs": [
    {
     "name": "stdout",
     "output_type": "stream",
     "text": [
      "Best SVM training error: 0.050000\n",
      "Best SVM test error: 0.215664\n"
     ]
    }
   ],
   "source": [
    "#get training and test error for the best SVM model from CV\n",
    "best_SVM = clf_rbf\n",
    "\n",
    "\n",
    "\n",
    "training_error = 1. - best_SVM.score(X_train,y_train)\n",
    "test_error = 1. - best_SVM.score(X_test,y_test)\n",
    "\n",
    "print (\"Best SVM training error: %f\" % training_error)\n",
    "print (\"Best SVM test error: %f\" % test_error)"
   ]
  },
  {
   "cell_type": "markdown",
   "metadata": {},
   "source": [
    "## More data\n",
    "Now let's do the same but using more data points for training.\n",
    "\n",
    "\n",
    "Choose a new number of data points."
   ]
  },
  {
   "cell_type": "code",
   "execution_count": 13,
   "metadata": {},
   "outputs": [
    {
     "name": "stdout",
     "output_type": "stream",
     "text": [
      "Labels in training dataset:  [0 1 2 3 4 5 6 7 8 9]\n",
      "Frequencies in training dataset:  [204 215 179 213 196 225 210 174 187 197]\n"
     ]
    }
   ],
   "source": [
    "X = X[permutation]\n",
    "y = y[permutation]\n",
    "\n",
    "m_training = 2000 # TODO number of data points, adjust depending on the capabilities of your PC\n",
    "\n",
    "X_train, X_test = X[:m_training], X[m_training:]\n",
    "y_train, y_test = y[:m_training], y[m_training:]\n",
    "\n",
    "labels, freqs = np.unique(y_train, return_counts=True)\n",
    "print(\"Labels in training dataset: \", labels)\n",
    "print(\"Frequencies in training dataset: \", freqs)"
   ]
  },
  {
   "cell_type": "markdown",
   "metadata": {},
   "source": [
    "Let's try to use SVM with parameters obtained from the best model for $m_{training} =  2000$. Since it may take a long time to run, you can decide to just let it run for some time and stop it if it does not complete. If you decide to do this, report it in the TO DO 9 cell below.\n",
    "\n",
    "### TO DO 7"
   ]
  },
  {
   "cell_type": "code",
   "execution_count": 14,
   "metadata": {
    "scrolled": true
   },
   "outputs": [
    {
     "name": "stdout",
     "output_type": "stream",
     "text": [
      "Best SVM training error: 0.060000\n",
      "Best SVM test error: 0.163552\n"
     ]
    }
   ],
   "source": [
    "#get training and test error for the best SVM model from CV\n",
    "\n",
    "# ADD YOUR CODE\n",
    "# parameters for rbf SVM\n",
    "parameters = {'C': [0.5, 5, 50, 500],'gamma':[0.005, 0.05, 0.5,5]}\n",
    "\n",
    "rbf = SVC(kernel='rbf')\n",
    "clf_rbf = GridSearchCV(rbf, parameters, cv=4)\n",
    "clf_rbf.fit(X_train, y_train)\n",
    "\n",
    "training_error = 1. - clf_rbf.score(X_train,y_train)\n",
    "test_error = 1. - clf_rbf.score(X_test,y_test)\n",
    "\n",
    "print (\"Best SVM training error: %f\" % training_error)\n",
    "print (\"Best SVM test error: %f\" % test_error)"
   ]
  },
  {
   "cell_type": "code",
   "execution_count": 15,
   "metadata": {},
   "outputs": [
    {
     "name": "stdout",
     "output_type": "stream",
     "text": [
      "RESULTS FOR rbf KERNEL\n",
      "Best parameters set found:\n",
      "{'C': 5, 'gamma': 0.005}\n",
      "Score with best parameters:\n",
      "0.8315\n",
      "\n",
      "All scores on the grid:\n",
      "[0.767  0.782  0.1125 0.1125 0.8315 0.822  0.1625 0.1125 0.8215 0.822\n",
      " 0.1625 0.1125 0.821  0.822  0.1625 0.1125]\n"
     ]
    }
   ],
   "source": [
    "print ('RESULTS FOR rbf KERNEL')\n",
    "\n",
    "print(\"Best parameters set found:\")\n",
    "#ADD YOUR CODE\n",
    "print(clf_rbf.best_params_)\n",
    "\n",
    "print(\"Score with best parameters:\")\n",
    "#ADD YOUR CODE\n",
    "print(clf_rbf.best_score_)\n",
    "\n",
    "print(\"\\nAll scores on the grid:\")\n",
    "#ADD YOUR CODE\n",
    "print(clf_rbf.cv_results_['mean_test_score'])"
   ]
  },
  {
   "cell_type": "markdown",
   "metadata": {},
   "source": [
    "Just for comparison, let's also use logistic regression (with standard parameters from scikit-learn, i.e. some regularization is included).\n",
    "\n",
    "### TO DO 8 Try first without regularization (use a very large large C)"
   ]
  },
  {
   "cell_type": "code",
   "execution_count": 16,
   "metadata": {},
   "outputs": [
    {
     "name": "stderr",
     "output_type": "stream",
     "text": [
      "C:\\Users\\39349\\Anaconda3\\lib\\site-packages\\sklearn\\linear_model\\logistic.py:432: FutureWarning: Default solver will be changed to 'lbfgs' in 0.22. Specify a solver to silence this warning.\n",
      "  FutureWarning)\n",
      "C:\\Users\\39349\\Anaconda3\\lib\\site-packages\\sklearn\\linear_model\\logistic.py:469: FutureWarning: Default multi_class will be changed to 'auto' in 0.22. Specify the multi_class option to silence this warning.\n",
      "  \"this warning.\", FutureWarning)\n"
     ]
    },
    {
     "name": "stdout",
     "output_type": "stream",
     "text": [
      "Best logistic regression training error: 0.000000\n",
      "Best logistic regression test error: 0.235293\n"
     ]
    }
   ],
   "source": [
    "from sklearn import linear_model\n",
    "from sklearn import metrics\n",
    "\n",
    "### ADD YOUR CODE\n",
    "reg = linear_model.LogisticRegression(C=1e10)\n",
    "reg.fit(X_train, y_train)\n",
    "\n",
    "# prediction on train data\n",
    "y_train_prediction = reg.predict(X_train)\n",
    "accuracy_train = metrics.accuracy_score(y_train_prediction, y_train)\n",
    "\n",
    "# prediction on test data\n",
    "y_test_prediction = reg.predict(X_test)\n",
    "accuracy_test = metrics.accuracy_score(y_test_prediction, y_test)\n",
    "\n",
    "training_error = 1 - accuracy_train\n",
    "test_error = 1 - accuracy_test\n",
    "\n",
    "print (\"Best logistic regression training error: %f\" % training_error)\n",
    "print (\"Best logistic regression test error: %f\" % test_error)"
   ]
  },
  {
   "cell_type": "markdown",
   "metadata": {},
   "source": [
    "### TO DO 9 Then use also some regularization "
   ]
  },
  {
   "cell_type": "code",
   "execution_count": 17,
   "metadata": {},
   "outputs": [
    {
     "name": "stderr",
     "output_type": "stream",
     "text": [
      "C:\\Users\\39349\\Anaconda3\\lib\\site-packages\\sklearn\\linear_model\\logistic.py:432: FutureWarning: Default solver will be changed to 'lbfgs' in 0.22. Specify a solver to silence this warning.\n",
      "  FutureWarning)\n",
      "C:\\Users\\39349\\Anaconda3\\lib\\site-packages\\sklearn\\linear_model\\logistic.py:469: FutureWarning: Default multi_class will be changed to 'auto' in 0.22. Specify the multi_class option to silence this warning.\n",
      "  \"this warning.\", FutureWarning)\n"
     ]
    },
    {
     "name": "stdout",
     "output_type": "stream",
     "text": [
      "Best regularized logistic regression training error: 0.038000\n",
      "Best regularized logistic regression test error: 0.186517\n"
     ]
    }
   ],
   "source": [
    "regL2 = linear_model.LogisticRegression(C=1)\n",
    "regL2.fit(X_train, y_train)\n",
    "\n",
    "# prediction on train data\n",
    "y_train_prediction = regL2.predict(X_train)\n",
    "accuracy_train = metrics.accuracy_score(y_train_prediction, y_train)\n",
    "\n",
    "# prediction on test data\n",
    "y_test_prediction = regL2.predict(X_test)\n",
    "accuracy_test = metrics.accuracy_score(y_test_prediction, y_test)\n",
    "\n",
    "training_error = 1 - accuracy_train\n",
    "test_error = 1 - accuracy_test\n",
    "\n",
    "print (\"Best regularized logistic regression training error: %f\" % training_error)\n",
    "print (\"Best regularized logistic regression test error: %f\" % test_error)"
   ]
  },
  {
   "cell_type": "markdown",
   "metadata": {},
   "source": [
    "## TO DO 10\n",
    "Compare and discuss:\n",
    "- the results from SVM with m=500 and with m=2000 training data points. If you stopped the SVM, include such aspect in your comparison.\n",
    "- the results of SVM and of Logistic Regression with and without regularization\n",
    "\n",
    "### ANSWER TO THE QUESTION"
   ]
  },
  {
   "cell_type": "markdown",
   "metadata": {},
   "source": [
    "- For $m=500$ the training error for the best choice of hyperparameters is $0.0$ (due to the instability of the algorithm for the small amount of data and to overfit) and the test error is $\\sim 0.203$, while for $m=2000$ the training error is $\\sim 0.058$ and the test error is $\\sim 0.162$. So the performances of the algorithm improve with a larger dataset, however the run time is longer\n",
    "- Logistic Regression gives a training error of $0.0$ (again, due to instability and to overfit) and a test error of $\\sim 0.232$ without regularization, and a training error of $\\sim 0.038$ and a test error of $\\sim 0.184$ with regularization ($C=1$). It means that the performances improve with regularization since the algorithm is more stable and is less affected by overfit.\n",
    "\n",
    "So, the SVM method gives better results, however runtime is shorter for Logistic Regression."
   ]
  },
  {
   "cell_type": "markdown",
   "metadata": {},
   "source": [
    "## TO DO 10\n",
    "Plot an item of clothing that is missclassified by logistic regression and correctly classified by SVM."
   ]
  },
  {
   "cell_type": "code",
   "execution_count": 18,
   "metadata": {},
   "outputs": [
    {
     "name": "stdout",
     "output_type": "stream",
     "text": [
      "INPUT:\n"
     ]
    },
    {
     "data": {
      "image/png": "[encoded data removed]",
      "text/plain": [
       "<Figure size 432x288 with 1 Axes>"
      ]
     },
     "metadata": {
      "needs_background": "light"
     },
     "output_type": "display_data"
    },
    {
     "name": "stdout",
     "output_type": "stream",
     "text": [
      "LABEL: 5\n",
      "Index: 4\n",
      "LR prediction: 9\n",
      "SVM prediction: 5\n"
     ]
    }
   ],
   "source": [
    "LR_prediction = regL2.predict(X_test) # ADD CODE\n",
    "SVM_prediction = clf_rbf.predict(X_test) # ADD CODE\n",
    "\n",
    "# ADD CODE\n",
    "index = []\n",
    "for i in range(len(y_test[:1000])):\n",
    "    if LR_prediction[i]!=y_test[i] and SVM_prediction[i]==y_test[i]:\n",
    "        index.append(i)\n",
    "\n",
    "plot_input(X_test,y_test,index[0])\n",
    "print(\"Index:\", index[0])\n",
    "print(\"LR prediction:\", LR_prediction[index[0]])\n",
    "print(\"SVM prediction:\", SVM_prediction[index[0]])"
   ]
  },
  {
   "cell_type": "markdown",
   "metadata": {},
   "source": [
    "## TO DO 11\n",
    "Plot the confusion matrix for the SVM classifier and for logistic regression.\n",
    "The confusion matrix has one column for each predicted label and one row for each true label. \n",
    "It shows for each class in the corresponding row how many samples belonging to that class gets each possible output label.\n",
    "Notice that the diagonal contains the correctly classified samples, while the other cells correspond to errors.\n",
    "You can obtain it with the sklearn.metrics.confusion_matrix function (see the documentation).\n",
    "Try also to normalize the confusion matrix by the number of samples in each class in order to measure the accuracy on each single class.\n"
   ]
  },
  {
   "cell_type": "code",
   "execution_count": 19,
   "metadata": {},
   "outputs": [
    {
     "name": "stdout",
     "output_type": "stream",
     "text": [
      "Labels and frequencies in test set:  [5796 5785 5821 5787 5804 5775 5790 5826 5813 5803]\n",
      "\n",
      " Confusion matrix SVM  \n",
      " \n",
      " [[4873   24   72  277   13    7  474    1   54    1]\n",
      " [  38 5493   44  191    7    0    8    0    3    1]\n",
      " [  91    7 4321   53  795    3  510    0   41    0]\n",
      " [ 302   69   57 4973  221    0  154    0   11    0]\n",
      " [  26    6  524  240 4507    3  481    0   16    1]\n",
      " [   1    0    1    9    0 5456    0  171   24  113]\n",
      " [1108   20  728  152  574    2 3112    0   92    2]\n",
      " [   0    0    0    0    0  654    0 4813    9  350]\n",
      " [  27    7   37   37   20   61  122   32 5461    9]\n",
      " [   1    0    0    3    0   96    0  195    3 5505]]\n",
      "\n",
      " Confusion matrix SVM (normalized)   \n",
      " \n",
      " [[0.84 0.   0.01 0.05 0.   0.   0.08 0.   0.01 0.  ]\n",
      " [0.01 0.95 0.01 0.03 0.   0.   0.   0.   0.   0.  ]\n",
      " [0.02 0.   0.74 0.01 0.14 0.   0.09 0.   0.01 0.  ]\n",
      " [0.05 0.01 0.01 0.86 0.04 0.   0.03 0.   0.   0.  ]\n",
      " [0.   0.   0.09 0.04 0.78 0.   0.08 0.   0.   0.  ]\n",
      " [0.   0.   0.   0.   0.   0.94 0.   0.03 0.   0.02]\n",
      " [0.19 0.   0.13 0.03 0.1  0.   0.54 0.   0.02 0.  ]\n",
      " [0.   0.   0.   0.   0.   0.11 0.   0.83 0.   0.06]\n",
      " [0.   0.   0.01 0.01 0.   0.01 0.02 0.01 0.94 0.  ]\n",
      " [0.   0.   0.   0.   0.   0.02 0.   0.03 0.   0.95]]\n",
      "\n",
      " Confusion matrix LR  \n",
      " \n",
      " [[4503   56  129  291   29   11  709    3   60    5]\n",
      " [  21 5532   50  139   18    3   18    1    3    0]\n",
      " [ 156   23 3995   51  931   13  598    0   54    0]\n",
      " [ 295  138   84 4744  263    2  234    0   26    1]\n",
      " [  39   17  559  227 4318    4  601    0   38    1]\n",
      " [   4    4    1   15    2 5154    6  279   66  244]\n",
      " [ 934   30  732  188  692    5 3102    1  101    5]\n",
      " [   1    0    0    1    0  442    0 5035   15  332]\n",
      " [  49    7   45  108   36   56  129   37 5331   15]\n",
      " [   1    0    1    6    0  112    0  211    4 5468]]\n",
      "\n",
      " Confusion matrix LR (normalized)   \n",
      " \n",
      " [[0.78 0.01 0.02 0.05 0.01 0.   0.12 0.   0.01 0.  ]\n",
      " [0.   0.96 0.01 0.02 0.   0.   0.   0.   0.   0.  ]\n",
      " [0.03 0.   0.69 0.01 0.16 0.   0.1  0.   0.01 0.  ]\n",
      " [0.05 0.02 0.01 0.82 0.05 0.   0.04 0.   0.   0.  ]\n",
      " [0.01 0.   0.1  0.04 0.74 0.   0.1  0.   0.01 0.  ]\n",
      " [0.   0.   0.   0.   0.   0.89 0.   0.05 0.01 0.04]\n",
      " [0.16 0.01 0.13 0.03 0.12 0.   0.54 0.   0.02 0.  ]\n",
      " [0.   0.   0.   0.   0.   0.08 0.   0.86 0.   0.06]\n",
      " [0.01 0.   0.01 0.02 0.01 0.01 0.02 0.01 0.92 0.  ]\n",
      " [0.   0.   0.   0.   0.   0.02 0.   0.04 0.   0.94]]\n"
     ]
    }
   ],
   "source": [
    "from sklearn.metrics import confusion_matrix\n",
    "\n",
    "# for better aligned printing of confusion matrix use floatmode='fixed' (not supported in all versions of Python)\n",
    "np.set_printoptions(precision=2, suppress=True) \n",
    "\n",
    "u, counts = np.unique(y_test, return_counts=True)\n",
    "print(\"Labels and frequencies in test set: \", counts)\n",
    "\n",
    "confusion_SVM = confusion_matrix(y_test, SVM_prediction) #ADD CODE\n",
    "print(\"\\n Confusion matrix SVM  \\n \\n\", confusion_SVM)\n",
    "print(\"\\n Confusion matrix SVM (normalized)   \\n \\n\", confusion_SVM /counts[:,None] )\n",
    "\n",
    "confusion_LR = confusion_matrix(y_test, LR_prediction) #ADD CODE\n",
    "print(\"\\n Confusion matrix LR  \\n \\n\", confusion_LR)\n",
    "print(\"\\n Confusion matrix LR (normalized)   \\n \\n\", confusion_LR /counts[:,None] )"
   ]
  },
  {
   "cell_type": "markdown",
   "metadata": {},
   "source": [
    "## TO DO 12\n",
    "Have a look at the confusion matrices and comment on the obtained accuracies. Why some classes have lower accuracies and others an higher one ? Make some guesses on the possible causes.\n",
    "\n",
    "### ANSWER TO THE QUESTION\n"
   ]
  },
  {
   "cell_type": "markdown",
   "metadata": {},
   "source": [
    "The accuracies obtained by SVM method are:\n",
    "\n",
    "| Label | Description | Accuracy with SVM | Accuracy with LR |\n",
    "| --- | --- | --- | --- |\n",
    "| 0 | T-shirt/top | 0.84 | 0.78 |\n",
    "| 1 | Trouser | 0.95 | 0.96 |\n",
    "| 2 | Pullover | 0.74 | 0.69 |\n",
    "| 3 | Dress | 0.86 | 0.82 |\n",
    "| 4 | Coat | 0.78 | 0.74 |\n",
    "| 5 | Sandal | 0.94 | 0.89 |\n",
    "| 6 | Shirt | 0.54 | 0.54 |\n",
    "| 7 | Sneaker | 0.83 | 0.86 |\n",
    "| 8 | Bag | 0.94 | 0.92 |\n",
    "| 9 | Ankle boot | 0.95 | 0.94 |\n",
    "\n",
    "Some classes have lower accuracies than others and the reason could be that the former have a more general shape and the algorithm confuses them with other similar shapes."
   ]
  }
 ],
 "metadata": {
  "kernelspec": {
   "display_name": "Python 3",
   "language": "python",
   "name": "python3"
  },
  "language_info": {
   "codemirror_mode": {
    "name": "ipython",
    "version": 3
   },
   "file_extension": ".py",
   "mimetype": "text/x-python",
   "name": "python",
   "nbconvert_exporter": "python",
   "pygments_lexer": "ipython3",
   "version": "3.7.4"
  }
 },
 "nbformat": 4,
 "nbformat_minor": 4
}
