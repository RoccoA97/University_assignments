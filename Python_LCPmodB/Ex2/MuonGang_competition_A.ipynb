{
 "cells": [
  {
   "cell_type": "code",
   "execution_count": 1,
   "metadata": {},
   "outputs": [],
   "source": [
    "import numpy as np\n",
    "import scipy as sp\n",
    "import matplotlib.pyplot as plt\n",
    "import tensorflow.keras\n",
    "import sklearn\n",
    "import os\n",
    "os.environ['KMP_DUPLICATE_LIB_OK']='True'\n",
    "import tensorflow as tf\n",
    "os.environ['TF_CPP_MIN_LOG_LEVEL'] = '2'\n",
    "os.environ[\"CUDA_VISIBLE_DEVICES\"] = \"-1\"\n",
    "\n",
    "from tensorflow.keras.models import Sequential\n",
    "from tensorflow.keras.layers import Dense, Dropout\n",
    "\n",
    "from sklearn.model_selection import GridSearchCV\n",
    "from tensorflow.keras.wrappers.scikit_learn import KerasClassifier\n",
    "from tensorflow.keras.constraints import max_norm\n",
    "import tensorflow.keras.layers\n",
    "#from tensorflow.keras.layers.normalization import BatchNormalization\n",
    "from tensorflow.keras.regularizers import l2, l1, l1_l2\n",
    "\n",
    "from tensorflow.keras.models import load_model\n"
   ]
  },
  {
   "cell_type": "code",
   "execution_count": 2,
   "metadata": {},
   "outputs": [],
   "source": [
    "def expand(S):\n",
    "    if(len(str(S))!=L):\n",
    "        print('dimensional error')\n",
    "        return []\n",
    "    x=[0]*LD\n",
    "    p=10**(L-1)\n",
    "    j=0\n",
    "    while j<L:\n",
    "        q=int(S/p)\n",
    "        x[j*D+(q-1)]=1\n",
    "        j+=1\n",
    "        S=S-q*p\n",
    "        p=int(p/10)\n",
    "    return x"
   ]
  },
  {
   "cell_type": "code",
   "execution_count": 11,
   "metadata": {},
   "outputs": [
    {
     "name": "stdout",
     "output_type": "stream",
     "text": [
      "3000 9 7\n",
      "Model: \"sequential_39\"\n",
      "_________________________________________________________________\n",
      "Layer (type)                 Output Shape              Param #   \n",
      "=================================================================\n",
      "dense_156 (Dense)            (None, 63)                4032      \n",
      "_________________________________________________________________\n",
      "dense_157 (Dense)            (None, 31)                1984      \n",
      "_________________________________________________________________\n",
      "dense_158 (Dense)            (None, 15)                480       \n",
      "_________________________________________________________________\n",
      "dropout_49 (Dropout)         (None, 15)                0         \n",
      "_________________________________________________________________\n",
      "dense_159 (Dense)            (None, 1)                 16        \n",
      "=================================================================\n",
      "Total params: 6,512\n",
      "Trainable params: 6,512\n",
      "Non-trainable params: 0\n",
      "_________________________________________________________________\n",
      "None\n"
     ]
    }
   ],
   "source": [
    "#datafile='secretkeys_competition.csv'\n",
    "datafile='secretkeys_exe-b.csv'\n",
    "data=np.loadtxt(datafile, delimiter=',', dtype=int)\n",
    "\n",
    "N=len(data) #data dimension\n",
    "D=9 #digits\n",
    "L=len(str(data[0,0]))\n",
    "LD=L*D\n",
    "print(N,D,L)\n",
    "\n",
    "model = load_model('MuonGang_parameters_A.hdf5', custom_objects={'ELU' : tf.keras.layers.ELU })\n",
    "print(model.summary())\n",
    "\n",
    "X_competition=np.array([expand(x) for x in data[:,0]])\n",
    "Y_competition=np.squeeze(model.predict_classes(X_competition))\n",
    "\n"
   ]
  },
  {
   "cell_type": "code",
   "execution_count": 4,
   "metadata": {},
   "outputs": [],
   "source": [
    "import csv \n",
    "with open('MuonGang_prediction_A.csv',mode='w') as myfile:\n",
    "    writer = csv.writer(myfile,delimiter=',')\n",
    "    for i in range(N):\n",
    "        writer.writerow((Y_competition[i],))"
   ]
  },
  {
   "cell_type": "code",
   "execution_count": 12,
   "metadata": {},
   "outputs": [
    {
     "name": "stdout",
     "output_type": "stream",
     "text": [
      "2991 9 3000\n",
      "0.997 0.003\n"
     ]
    }
   ],
   "source": [
    "Y_file=data[:,1]\n",
    "correct=0\n",
    "wrong=0\n",
    "totals=0\n",
    "for y1,y2 in zip (Y_competition, Y_file):\n",
    "    if y1==y2:\n",
    "        correct+=1\n",
    "    else:\n",
    "        wrong+=1\n",
    "    totals+=1\n",
    "\n",
    "print(correct, wrong, totals)\n",
    "print(correct/totals, wrong/totals)"
   ]
  },
  {
   "cell_type": "code",
   "execution_count": null,
   "metadata": {},
   "outputs": [],
   "source": []
  }
 ],
 "metadata": {
  "kernelspec": {
   "display_name": "Python 3",
   "language": "python",
   "name": "python3"
  },
  "language_info": {
   "codemirror_mode": {
    "name": "ipython",
    "version": 3
   },
   "file_extension": ".py",
   "mimetype": "text/x-python",
   "name": "python",
   "nbconvert_exporter": "python",
   "pygments_lexer": "ipython3",
   "version": "3.7.3"
  }
 },
 "nbformat": 4,
 "nbformat_minor": 2
}
