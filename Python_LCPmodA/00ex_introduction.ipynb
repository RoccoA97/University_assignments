{
 "cells": [
  {
   "cell_type": "markdown",
   "metadata": {},
   "source": [
    "# Index <a class=\"anchor\" id=\"00.i\"></a>\n",
    "\n",
    "* [Exercise 1](#00.1)\n",
    "* [Exercise 2](#00.2)\n",
    "* [Exercise 3](#00.3)\n",
    "* [Exercise 4](#00.4)\n",
    "* [Exercise 5](#00.5)\n",
    "* [Exercise 6](#00.6)\n",
    "* [Exercise 7](#00.7)\n",
    "* [Exercise 8](#00.8)\n",
    "* [Exercise 9](#00.9)"
   ]
  },
  {
   "cell_type": "markdown",
   "metadata": {},
   "source": [
    "1. The MickeyMouse problem\n",
    "\n",
    "a) Write a program that prints the numbers from 1 to 100. But for multiples of three print Mickey instead of the number and for the multiples of five print Mouse. For numbers which are multiples of both three and five print MickeyMouse\n",
    "\n",
    "b) Put the result in a tuple and substitute Mickey with Donald and Mouse with Duck"
   ]
  },
  {
   "cell_type": "markdown",
   "metadata": {},
   "source": [
    "## Exercise 1 <a class=\"anchor\" id=\"00.1\"></a>\n",
    "* [Index](#00.i)"
   ]
  },
  {
   "cell_type": "code",
   "execution_count": 1,
   "metadata": {},
   "outputs": [
    {
     "name": "stdout",
     "output_type": "stream",
     "text": [
      "1\n",
      "2\n",
      "Mickey\n",
      "4\n",
      "Mouse\n",
      "Mickey\n",
      "7\n",
      "8\n",
      "Mickey\n",
      "Mouse\n",
      "11\n",
      "Mickey\n",
      "13\n",
      "14\n",
      "MickeyMouse\n",
      "16\n",
      "17\n",
      "Mickey\n",
      "19\n",
      "Mouse\n",
      "Mickey\n",
      "22\n",
      "23\n",
      "Mickey\n",
      "Mouse\n",
      "26\n",
      "Mickey\n",
      "28\n",
      "29\n",
      "MickeyMouse\n",
      "31\n",
      "32\n",
      "Mickey\n",
      "34\n",
      "Mouse\n",
      "Mickey\n",
      "37\n",
      "38\n",
      "Mickey\n",
      "Mouse\n",
      "41\n",
      "Mickey\n",
      "43\n",
      "44\n",
      "MickeyMouse\n",
      "46\n",
      "47\n",
      "Mickey\n",
      "49\n",
      "Mouse\n",
      "Mickey\n",
      "52\n",
      "53\n",
      "Mickey\n",
      "Mouse\n",
      "56\n",
      "Mickey\n",
      "58\n",
      "59\n",
      "MickeyMouse\n",
      "61\n",
      "62\n",
      "Mickey\n",
      "64\n",
      "Mouse\n",
      "Mickey\n",
      "67\n",
      "68\n",
      "Mickey\n",
      "Mouse\n",
      "71\n",
      "Mickey\n",
      "73\n",
      "74\n",
      "MickeyMouse\n",
      "76\n",
      "77\n",
      "Mickey\n",
      "79\n",
      "Mouse\n",
      "Mickey\n",
      "82\n",
      "83\n",
      "Mickey\n",
      "Mouse\n",
      "86\n",
      "Mickey\n",
      "88\n",
      "89\n",
      "MickeyMouse\n",
      "91\n",
      "92\n",
      "Mickey\n",
      "94\n",
      "Mouse\n",
      "Mickey\n",
      "97\n",
      "98\n",
      "Mickey\n",
      "Mouse\n",
      "(1, 2, 'Mickey', 4, 'Mouse', 'Mickey', 7, 8, 'Mickey', 'Mouse', 11, 'Mickey', 13, 14, 'MickeyMouse', 16, 17, 'Mickey', 19, 'Mouse', 'Mickey', 22, 23, 'Mickey', 'Mouse', 26, 'Mickey', 28, 29, 'MickeyMouse', 31, 32, 'Mickey', 34, 'Mouse', 'Mickey', 37, 38, 'Mickey', 'Mouse', 41, 'Mickey', 43, 44, 'MickeyMouse', 46, 47, 'Mickey', 49, 'Mouse', 'Mickey', 52, 53, 'Mickey', 'Mouse', 56, 'Mickey', 58, 59, 'MickeyMouse', 61, 62, 'Mickey', 64, 'Mouse', 'Mickey', 67, 68, 'Mickey', 'Mouse', 71, 'Mickey', 73, 74, 'MickeyMouse', 76, 77, 'Mickey', 79, 'Mouse', 'Mickey', 82, 83, 'Mickey', 'Mouse', 86, 'Mickey', 88, 89, 'MickeyMouse', 91, 92, 'Mickey', 94, 'Mouse', 'Mickey', 97, 98, 'Mickey', 'Mouse')\n",
      "(1, 2, 'Donald', 4, 'Duck', 'Donald', 7, 8, 'Donald', 'Duck', 11, 'Donald', 13, 14, 'DonaldDuck', 16, 17, 'Donald', 19, 'Duck', 'Donald', 22, 23, 'Donald', 'Duck', 26, 'Donald', 28, 29, 'DonaldDuck', 31, 32, 'Donald', 34, 'Duck', 'Donald', 37, 38, 'Donald', 'Duck', 41, 'Donald', 43, 44, 'DonaldDuck', 46, 47, 'Donald', 49, 'Duck', 'Donald', 52, 53, 'Donald', 'Duck', 56, 'Donald', 58, 59, 'DonaldDuck', 61, 62, 'Donald', 64, 'Duck', 'Donald', 67, 68, 'Donald', 'Duck', 71, 'Donald', 73, 74, 'DonaldDuck', 76, 77, 'Donald', 79, 'Duck', 'Donald', 82, 83, 'Donald', 'Duck', 86, 'Donald', 88, 89, 'DonaldDuck', 91, 92, 'Donald', 94, 'Duck', 'Donald', 97, 98, 'Donald', 'Duck')\n"
     ]
    }
   ],
   "source": [
    "# a)\n",
    "t1 = ()\n",
    "for i in range(1,101):\n",
    "    if i%3==0 and i%5!=0:\n",
    "        print('Mickey')\n",
    "        t1 = t1 + ('Mickey',)\n",
    "    elif i%3!=0 and i%5==0:\n",
    "        print('Mouse')\n",
    "        t1 = t1 + ('Mouse',)\n",
    "    elif i%3==0 and i%5==0:\n",
    "        print('MickeyMouse')\n",
    "        t1 = t1 + ('MickeyMouse',)\n",
    "    else:\n",
    "        print(i)\n",
    "        t1 = t1 + (i,)\n",
    "\n",
    "print(t1)\n",
    "\n",
    "\n",
    "# b)\n",
    "l = list(t1)\n",
    "for i,s in enumerate(l,0):\n",
    "    if s == 'Mickey':\n",
    "        l[i] = 'Donald'\n",
    "    elif s == 'Mouse':\n",
    "        l[i] = 'Duck'\n",
    "    elif s == 'MickeyMouse':\n",
    "        l[i] = 'DonaldDuck'\n",
    "    else:\n",
    "        l[i] = i+1\n",
    "\n",
    "t2 = tuple(l)\n",
    "print(t2)"
   ]
  },
  {
   "cell_type": "markdown",
   "metadata": {},
   "source": [
    "2\\. The swap function\n",
    "\n",
    "Write a function that swap the values of two input variables x and y (whatever the type). Try to do that also without a temporary variable"
   ]
  },
  {
   "cell_type": "markdown",
   "metadata": {},
   "source": [
    "## Exercise 2 <a class=\"anchor\" id=\"00.2\"></a>\n",
    "* [Index](#00.i)"
   ]
  },
  {
   "cell_type": "code",
   "execution_count": 2,
   "metadata": {},
   "outputs": [
    {
     "name": "stdout",
     "output_type": "stream",
     "text": [
      "x = 3\n",
      "y = 2\n"
     ]
    }
   ],
   "source": [
    "def swap_f_temp(x,y):\n",
    "    temp = x\n",
    "    x = y\n",
    "    y = temp\n",
    "    return x,y\n",
    "\n",
    "x = 2\n",
    "y = 3\n",
    "\n",
    "x,y = swap_f_temp(x,y)\n",
    "print('x =',x)\n",
    "print('y =',y) "
   ]
  },
  {
   "cell_type": "code",
   "execution_count": 3,
   "metadata": {},
   "outputs": [
    {
     "name": "stdout",
     "output_type": "stream",
     "text": [
      "x = 2\n",
      "y = 3\n"
     ]
    }
   ],
   "source": [
    "def swap_f(x,y):\n",
    "    x, y = y, x\n",
    "    return x,y\n",
    "\n",
    "x = 3\n",
    "y = 2\n",
    "\n",
    "x,y = swap_f(x,y)\n",
    "print('x =',x)\n",
    "print('y =',y)   "
   ]
  },
  {
   "cell_type": "markdown",
   "metadata": {},
   "source": [
    "3\\. Computing the distance\n",
    "\n",
    "Write a function that calculates and returns the euclidean distance between two points *u* and *v*, where *u* and *v* are both 2-tuples *(x,y)*. For example, if *u=(3,0)* and *v=(0,4)*, the function should return 5"
   ]
  },
  {
   "cell_type": "markdown",
   "metadata": {},
   "source": [
    "## Exercise 3 <a class=\"anchor\" id=\"00.3\"></a>\n",
    "* [Index](#00.i)"
   ]
  },
  {
   "cell_type": "code",
   "execution_count": 4,
   "metadata": {},
   "outputs": [
    {
     "name": "stdout",
     "output_type": "stream",
     "text": [
      "d = 5.0\n"
     ]
    }
   ],
   "source": [
    "from math import sqrt\n",
    "\n",
    "def e_distance(u,v):\n",
    "    sum = 0\n",
    "    for u_i,v_i in zip(u,v):\n",
    "        sum += (u_i-v_i)**2\n",
    "    return sqrt(sum)\n",
    "\n",
    "u = (3,0)\n",
    "v = (0,4)\n",
    "\n",
    "d = e_distance(u,v)\n",
    "print('d =',d)"
   ]
  },
  {
   "cell_type": "markdown",
   "metadata": {},
   "source": [
    "4\\. Counting letters\n",
    "\n",
    "Write a program to calculate the number of times each character occurs in a given string *s*. Ignore differneces in capitalization"
   ]
  },
  {
   "cell_type": "markdown",
   "metadata": {},
   "source": [
    "## Exercise 4 <a class=\"anchor\" id=\"00.4\"></a>\n",
    "* [Index](#00.i)"
   ]
  },
  {
   "cell_type": "code",
   "execution_count": 5,
   "metadata": {},
   "outputs": [
    {
     "name": "stdout",
     "output_type": "stream",
     "text": [
      "0 :  2 times\n",
      "1 :  2 times\n",
      "2 :  0 times\n",
      "3 :  0 times\n",
      "4 :  0 times\n",
      "5 :  0 times\n",
      "6 :  0 times\n",
      "7 :  0 times\n",
      "8 :  0 times\n",
      "9 :  0 times\n",
      "a :  7 times\n",
      "b :  5 times\n",
      "c :  3 times\n",
      "d :  3 times\n",
      "e :  22 times\n",
      "f :  10 times\n",
      "g :  1 times\n",
      "h :  9 times\n",
      "i :  14 times\n",
      "j :  0 times\n",
      "k :  2 times\n",
      "l :  6 times\n",
      "m :  12 times\n",
      "n :  10 times\n",
      "o :  13 times\n",
      "p :  8 times\n",
      "q :  0 times\n",
      "r :  17 times\n",
      "s :  9 times\n",
      "t :  19 times\n",
      "u :  9 times\n",
      "v :  2 times\n",
      "w :  2 times\n",
      "x :  0 times\n",
      "y :  2 times\n",
      "z :  0 times\n",
      "! :  0 times\n",
      "\" :  0 times\n",
      "# :  0 times\n",
      "$ :  0 times\n",
      "% :  0 times\n",
      "& :  0 times\n",
      "' :  0 times\n",
      "( :  0 times\n",
      ") :  0 times\n",
      "* :  0 times\n",
      "+ :  0 times\n",
      ", :  0 times\n",
      "- :  0 times\n",
      ". :  2 times\n",
      "/ :  0 times\n",
      ": :  0 times\n",
      "; :  0 times\n",
      "< :  0 times\n",
      "= :  0 times\n",
      "> :  0 times\n",
      "? :  0 times\n",
      "@ :  0 times\n",
      "[ :  0 times\n",
      "\\ :  0 times\n",
      "] :  0 times\n",
      "^ :  0 times\n",
      "_ :  0 times\n",
      "` :  0 times\n",
      "{ :  0 times\n",
      "| :  0 times\n",
      "} :  0 times\n",
      "~ :  0 times\n",
      "  :  41 times\n",
      "\t :  0 times\n",
      "\n",
      " :  0 times\n",
      " :  0 times\n",
      "\u000b",
      " :  0 times\n",
      "\f",
      " :  0 times\n"
     ]
    }
   ],
   "source": [
    "s=\"Write a program that prints the numbers from 1 to 100. \\\n",
    "But for multiples of three print Mickey instead of the number and for the multiples of five print Mouse. \\\n",
    "For numbers which are multiples of both three and five print MickeyMouse\"\n",
    "\n",
    "import string\n",
    "\n",
    "chars = list(string.printable)\n",
    "count = list()\n",
    "\n",
    "for char in chars:\n",
    "    if char not in string.ascii_uppercase:\n",
    "        count = s.lower().count(char)\n",
    "        print(char,': ',count,'times')"
   ]
  },
  {
   "cell_type": "markdown",
   "metadata": {},
   "source": [
    "5\\. Isolating the unique\n",
    "\n",
    "Write a function that determines and count the unique numbers in the list *l*"
   ]
  },
  {
   "cell_type": "markdown",
   "metadata": {},
   "source": [
    "## Exercise 5 <a class=\"anchor\" id=\"00.5\"></a>\n",
    "* [Index](#00.i)"
   ]
  },
  {
   "cell_type": "code",
   "execution_count": 6,
   "metadata": {},
   "outputs": [],
   "source": [
    "l = [36, 45, 58, 3, 74, 96, 64, 45, 31, 10, 24, 19, 33, 86, 99, 18, 63, 70, 85,\n",
    " 85, 63, 47, 56, 42, 70, 84, 88, 55, 20, 54, 8, 56, 51, 79, 81, 57, 37, 91,\n",
    " 1, 84, 84, 36, 66, 9, 89, 50, 42, 91, 50, 95, 90, 98, 39, 16, 82, 31, 92, 41,\n",
    " 45, 30, 66, 70, 34, 85, 94, 5, 3, 36, 72, 91, 84, 34, 87, 75, 53, 51, 20, 89, 51, 20]"
   ]
  },
  {
   "cell_type": "code",
   "execution_count": 7,
   "metadata": {},
   "outputs": [
    {
     "name": "stdout",
     "output_type": "stream",
     "text": [
      "unique numbers: [58, 74, 96, 64, 10, 24, 19, 33, 86, 99, 18, 47, 88, 55, 54, 8, 79, 81, 57, 37, 1, 9, 95, 90, 98, 39, 16, 82, 92, 41, 30, 94, 5, 72, 87, 75, 53]\n",
      "#unique numbers: 37\n"
     ]
    }
   ],
   "source": [
    "def unique(l):\n",
    "    unique_list = []\n",
    "    count = 0\n",
    "    for i in l:\n",
    "        if l.count(i)==1:\n",
    "            count += 1\n",
    "            unique_list.append(i)\n",
    "    \n",
    "    return count, unique_list\n",
    "\n",
    "print('unique numbers:', unique(l)[1])\n",
    "print('#unique numbers:', unique(l)[0])"
   ]
  },
  {
   "cell_type": "markdown",
   "metadata": {},
   "source": [
    "6\\. Combination of functions\n",
    "\n",
    "Write two functions - one that returns the square of a number, and one that returns the cube. Now write a third function that returns the number raised to the 6th power using the two previous functions."
   ]
  },
  {
   "cell_type": "markdown",
   "metadata": {},
   "source": [
    "## Exercise 6 <a class=\"anchor\" id=\"00.6\"></a>\n",
    "* [Index](#00.i)"
   ]
  },
  {
   "cell_type": "code",
   "execution_count": 8,
   "metadata": {},
   "outputs": [
    {
     "name": "stdout",
     "output_type": "stream",
     "text": [
      "x^2 = 4.0\n",
      "x^3 = 8.0\n",
      "x^6 = 64.0\n"
     ]
    }
   ],
   "source": [
    "def square(x):\n",
    "    return x**2\n",
    "\n",
    "def cube(x):\n",
    "    return x**3\n",
    "\n",
    "def power6(x):\n",
    "    return square(cube(x))\n",
    "\n",
    "x = 2.0\n",
    "print('x^2 =',square(x))\n",
    "print('x^3 =',cube(x))\n",
    "print('x^6 =',power6(x))"
   ]
  },
  {
   "cell_type": "markdown",
   "metadata": {},
   "source": [
    "7\\. Cubes\n",
    "\n",
    "Create a list of the cubes of x for x in *[0, 10]* using:\n",
    "\n",
    "a) a for loop\n",
    "\n",
    "b) a list comprehension"
   ]
  },
  {
   "cell_type": "markdown",
   "metadata": {},
   "source": [
    "## Exercise 7 <a class=\"anchor\" id=\"00.7\"></a>\n",
    "* [Index](#00.i)"
   ]
  },
  {
   "cell_type": "code",
   "execution_count": 9,
   "metadata": {},
   "outputs": [
    {
     "name": "stdout",
     "output_type": "stream",
     "text": [
      "[0, 1, 8, 27, 64, 125, 216, 343, 512, 729, 1000]\n",
      "[0, 1, 8, 27, 64, 125, 216, 343, 512, 729, 1000]\n"
     ]
    }
   ],
   "source": [
    "l_cubes = []\n",
    "for i in range(11):\n",
    "    l_cubes.append(i**3)\n",
    "\n",
    "c_cubes = [i**3 for i in range(11)]\n",
    "\n",
    "print(l_cubes)\n",
    "print(c_cubes)"
   ]
  },
  {
   "cell_type": "markdown",
   "metadata": {},
   "source": [
    "8\\. Nested list comprehension\n",
    "\n",
    "A Pythagorean triple is an integer solution to the Pythagorean theorem $a^2+b^2=c^2$. The first Pythagorean triple is (3,4,5). Find and put in a tuple all unique Pythagorean triples for the positive integers a, b and c less than 100."
   ]
  },
  {
   "cell_type": "markdown",
   "metadata": {},
   "source": [
    "## Exercise 8 <a class=\"anchor\" id=\"00.8\"></a>\n",
    "* [Index](#00.i)"
   ]
  },
  {
   "cell_type": "code",
   "execution_count": 10,
   "metadata": {},
   "outputs": [
    {
     "name": "stdout",
     "output_type": "stream",
     "text": [
      "[(3, 4, 5), (4, 3, 5), (5, 12, 13), (6, 8, 10), (7, 24, 25), (8, 6, 10), (8, 15, 17), (9, 12, 15), (9, 40, 41), (10, 24, 26), (11, 60, 61), (12, 5, 13), (12, 9, 15), (12, 16, 20), (12, 35, 37), (13, 84, 85), (14, 48, 50), (15, 8, 17), (15, 20, 25), (15, 36, 39), (16, 12, 20), (16, 30, 34), (16, 63, 65), (18, 24, 30), (18, 80, 82), (20, 15, 25), (20, 21, 29), (20, 48, 52), (21, 20, 29), (21, 28, 35), (21, 72, 75), (24, 7, 25), (24, 10, 26), (24, 18, 30), (24, 32, 40), (24, 45, 51), (24, 70, 74), (25, 60, 65), (27, 36, 45), (28, 21, 35), (28, 45, 53), (30, 16, 34), (30, 40, 50), (30, 72, 78), (32, 24, 40), (32, 60, 68), (33, 44, 55), (33, 56, 65), (35, 12, 37), (35, 84, 91), (36, 15, 39), (36, 27, 45), (36, 48, 60), (36, 77, 85), (39, 52, 65), (39, 80, 89), (40, 9, 41), (40, 30, 50), (40, 42, 58), (40, 75, 85), (42, 40, 58), (42, 56, 70), (44, 33, 55), (45, 24, 51), (45, 28, 53), (45, 60, 75), (48, 14, 50), (48, 20, 52), (48, 36, 60), (48, 55, 73), (48, 64, 80), (51, 68, 85), (52, 39, 65), (54, 72, 90), (55, 48, 73), (56, 33, 65), (56, 42, 70), (57, 76, 95), (60, 11, 61), (60, 25, 65), (60, 32, 68), (60, 45, 75), (60, 63, 87), (63, 16, 65), (63, 60, 87), (64, 48, 80), (65, 72, 97), (68, 51, 85), (70, 24, 74), (72, 21, 75), (72, 30, 78), (72, 54, 90), (72, 65, 97), (75, 40, 85), (76, 57, 95), (77, 36, 85), (80, 18, 82), (80, 39, 89), (84, 13, 85), (84, 35, 91)]\n"
     ]
    }
   ],
   "source": [
    "l = [(a,b,c) for a in range(1,100) for b in range(1,100) for c in range(1,100) if a**2 + b**2 == c**2]\n",
    "print(l)"
   ]
  },
  {
   "cell_type": "markdown",
   "metadata": {},
   "source": [
    "9\\. Normalization\n",
    "\n",
    "Write a function that takes a tuple of numbers and returns it with the entries normalized to one"
   ]
  },
  {
   "cell_type": "markdown",
   "metadata": {},
   "source": [
    "## Exercise 9 <a class=\"anchor\" id=\"00.9\"></a>\n",
    "* [Index](#00.i)"
   ]
  },
  {
   "cell_type": "code",
   "execution_count": 11,
   "metadata": {},
   "outputs": [
    {
     "data": {
      "text/plain": [
       "(0.5773502691896257, 0.5773502691896257, 0.5773502691896257)"
      ]
     },
     "execution_count": 11,
     "metadata": {},
     "output_type": "execute_result"
    }
   ],
   "source": [
    "from math import sqrt\n",
    "\n",
    "def normalization(t):\n",
    "    sum2 = 0\n",
    "    for i in t:\n",
    "        sum2 += i**2\n",
    "    \n",
    "    t_normalized = ()\n",
    "    for i in t:\n",
    "        t_normalized += (i/sqrt(sum2),)\n",
    "    \n",
    "    return t_normalized\n",
    "\n",
    "\n",
    "t = (3,3,3)\n",
    "normalization(t)"
   ]
  }
 ],
 "metadata": {
  "kernelspec": {
   "display_name": "Python 3",
   "language": "python",
   "name": "python3"
  },
  "language_info": {
   "codemirror_mode": {
    "name": "ipython",
    "version": 3
   },
   "file_extension": ".py",
   "mimetype": "text/x-python",
   "name": "python",
   "nbconvert_exporter": "python",
   "pygments_lexer": "ipython3",
   "version": "3.7.6"
  }
 },
 "nbformat": 4,
 "nbformat_minor": 4
}
