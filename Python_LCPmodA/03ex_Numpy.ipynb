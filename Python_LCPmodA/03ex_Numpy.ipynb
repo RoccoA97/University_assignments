{
 "cells": [
  {
   "cell_type": "markdown",
   "metadata": {},
   "source": [
    "# Index <a class=\"anchor\" id=\"03.i\"></a>\n",
    "\n",
    "* [Exercise 1](#03.1)\n",
    "* [Exercise 2](#03.2)\n",
    "* [Exercise 3](#03.3)\n",
    "* [Exercise 4](#03.4)\n",
    "* [Exercise 5](#03.5)\n",
    "* [Exercise 6](#03.6)\n",
    "* [Exercise 7](#03.7)\n",
    "* [Exercise 8](#03.8)\n",
    "* [Exercise 9](#03.9)"
   ]
  },
  {
   "cell_type": "markdown",
   "metadata": {},
   "source": [
    "### Numpy basics"
   ]
  },
  {
   "cell_type": "markdown",
   "metadata": {},
   "source": [
    "1\\. Find the row, column and overall means for the following matrix:\n",
    "\n",
    "```python\n",
    "m = np.arange(12).reshape((3,4))\n",
    "```"
   ]
  },
  {
   "cell_type": "code",
   "execution_count": 1,
   "metadata": {},
   "outputs": [],
   "source": [
    "import numpy as np"
   ]
  },
  {
   "cell_type": "markdown",
   "metadata": {},
   "source": [
    "## Exercise 1 <a class=\"anchor\" id=\"03.1\"></a>\n",
    "* [Index](#03.i)"
   ]
  },
  {
   "cell_type": "code",
   "execution_count": 2,
   "metadata": {},
   "outputs": [
    {
     "name": "stdout",
     "output_type": "stream",
     "text": [
      "[[ 0  1  2  3]\n",
      " [ 4  5  6  7]\n",
      " [ 8  9 10 11]]\n",
      "Row mean: [4. 5. 6. 7.]\n",
      "Col mena: [1.5 5.5 9.5]\n",
      "All mean: 5.5\n"
     ]
    }
   ],
   "source": [
    "m = np.arange(12).reshape((3,4))\n",
    "print(m)\n",
    "\n",
    "row_mean = np.mean(m, axis=0)\n",
    "col_mean = np.mean(m, axis=1)\n",
    "all_mean = np.mean(m)\n",
    "\n",
    "print('Row mean:',row_mean)\n",
    "print('Col mena:',col_mean)\n",
    "print('All mean:',all_mean)"
   ]
  },
  {
   "cell_type": "markdown",
   "metadata": {},
   "source": [
    "2\\. Find the outer product of the following two vecotrs\n",
    "\n",
    "```python\n",
    "u = np.array([1,3,5,7])\n",
    "v = np.array([2,4,6,8])\n",
    "```\n",
    "\n",
    "Do this in the following ways:\n",
    "\n",
    "   * Using the function outer in numpy\n",
    "   * Using a nested for loop or list comprehension\n",
    "   * Using numpy broadcasting operatoins\n"
   ]
  },
  {
   "cell_type": "markdown",
   "metadata": {},
   "source": [
    "## Exercise 2 <a class=\"anchor\" id=\"03.2\"></a>\n",
    "* [Index](#03.i)"
   ]
  },
  {
   "cell_type": "code",
   "execution_count": 3,
   "metadata": {},
   "outputs": [
    {
     "name": "stdout",
     "output_type": "stream",
     "text": [
      "[[ 2  4  6  8]\n",
      " [ 6 12 18 24]\n",
      " [10 20 30 40]\n",
      " [14 28 42 56]]\n",
      "[[ 2  4  6  8]\n",
      " [ 6 12 18 24]\n",
      " [10 20 30 40]\n",
      " [14 28 42 56]]\n",
      "[[ 2  4  6  8]\n",
      " [ 6 12 18 24]\n",
      " [10 20 30 40]\n",
      " [14 28 42 56]]\n"
     ]
    }
   ],
   "source": [
    "u = np.array([1,3,5,7])\n",
    "v = np.array([2,4,6,8])\n",
    "\n",
    "outer_prod_1 = np.outer(u,v)\n",
    "outer_prod_2 = np.array([[u[i]*v[j] for j in range(4)] for i in range(4)])\n",
    "outer_prod_3 = np.reshape(u,(4,1))*np.reshape(v,(1,4))\n",
    "\n",
    "print(outer_prod_1)\n",
    "print(outer_prod_2)\n",
    "print(outer_prod_3)"
   ]
  },
  {
   "cell_type": "markdown",
   "metadata": {},
   "source": [
    "3\\. Create a 10 by 6 matrix of random uniform numbers. Set all rows with any entry less than 0.1 to be zero\n",
    "\n",
    "Hint: Use the following numpy functions - np.random.random, np.any as well as Boolean indexing and the axis argument."
   ]
  },
  {
   "cell_type": "markdown",
   "metadata": {},
   "source": [
    "## Exercise 3 <a class=\"anchor\" id=\"03.3\"></a>\n",
    "* [Index](#03.i)"
   ]
  },
  {
   "cell_type": "code",
   "execution_count": 4,
   "metadata": {},
   "outputs": [
    {
     "name": "stdout",
     "output_type": "stream",
     "text": [
      "Matrix m:\n",
      "[[0.04907286 0.7410954  0.30330768 0.82222304 0.23414433 0.09411635]\n",
      " [0.26088033 0.1770219  0.48755561 0.4286978  0.33570934 0.49093591]\n",
      " [0.63010345 0.16014859 0.08768326 0.18588207 0.61232131 0.4254434 ]\n",
      " [0.789209   0.46698025 0.7759752  0.0429314  0.86847046 0.65885814]\n",
      " [0.98877528 0.50204703 0.4906881  0.80227787 0.34066272 0.22219811]\n",
      " [0.43312446 0.80007552 0.46603709 0.88757281 0.97602775 0.31585272]\n",
      " [0.53402286 0.33198499 0.71666519 0.58839669 0.92802458 0.64818631]\n",
      " [0.81508785 0.93062092 0.47134281 0.95870135 0.59733816 0.17793624]\n",
      " [0.21919972 0.44753741 0.40917426 0.94992749 0.3356069  0.21608124]\n",
      " [0.54601162 0.06122166 0.84914205 0.74338203 0.12430287 0.52411239]]\n",
      "\n",
      "Matrix m after manipulation:\n",
      "[[0.         0.7410954  0.30330768 0.82222304 0.23414433 0.        ]\n",
      " [0.26088033 0.1770219  0.48755561 0.4286978  0.33570934 0.49093591]\n",
      " [0.63010345 0.16014859 0.         0.18588207 0.61232131 0.4254434 ]\n",
      " [0.789209   0.46698025 0.7759752  0.         0.86847046 0.65885814]\n",
      " [0.98877528 0.50204703 0.4906881  0.80227787 0.34066272 0.22219811]\n",
      " [0.43312446 0.80007552 0.46603709 0.88757281 0.97602775 0.31585272]\n",
      " [0.53402286 0.33198499 0.71666519 0.58839669 0.92802458 0.64818631]\n",
      " [0.81508785 0.93062092 0.47134281 0.95870135 0.59733816 0.17793624]\n",
      " [0.21919972 0.44753741 0.40917426 0.94992749 0.3356069  0.21608124]\n",
      " [0.54601162 0.         0.84914205 0.74338203 0.12430287 0.52411239]]\n"
     ]
    }
   ],
   "source": [
    "m = np.random.rand(10, 6)\n",
    "print('Matrix m:')\n",
    "print(m)\n",
    "m[(m < 0.1)] = 0\n",
    "print('\\nMatrix m after manipulation:')\n",
    "print(m)"
   ]
  },
  {
   "cell_type": "markdown",
   "metadata": {},
   "source": [
    "4\\. Use np.linspace to create an array of 100 numbers between 0 and 2π (includsive).\n",
    "\n",
    "  * Extract every 10th element using slice notation\n",
    "  * Reverse the array using slice notation\n",
    "  * Extract elements where the absolute difference between the sine and cosine functions evaluated at that element is less than 0.1\n",
    "  * Make a plot showing the sin and cos functions and indicate where they are close"
   ]
  },
  {
   "cell_type": "markdown",
   "metadata": {},
   "source": [
    "## Exercise 4 <a class=\"anchor\" id=\"03.4\"></a>\n",
    "* [Index](#03.i)"
   ]
  },
  {
   "cell_type": "code",
   "execution_count": 5,
   "metadata": {},
   "outputs": [],
   "source": [
    "import matplotlib.pyplot as plt"
   ]
  },
  {
   "cell_type": "code",
   "execution_count": 6,
   "metadata": {},
   "outputs": [
    {
     "name": "stdout",
     "output_type": "stream",
     "text": [
      "[0.         0.06346652 0.12693304 0.19039955 0.25386607 0.31733259\n",
      " 0.38079911 0.44426563 0.50773215 0.57119866 0.63466518 0.6981317\n",
      " 0.76159822 0.82506474 0.88853126 0.95199777 1.01546429 1.07893081\n",
      " 1.14239733 1.20586385 1.26933037 1.33279688 1.3962634  1.45972992\n",
      " 1.52319644 1.58666296 1.65012947 1.71359599 1.77706251 1.84052903\n",
      " 1.90399555 1.96746207 2.03092858 2.0943951  2.15786162 2.22132814\n",
      " 2.28479466 2.34826118 2.41172769 2.47519421 2.53866073 2.60212725\n",
      " 2.66559377 2.72906028 2.7925268  2.85599332 2.91945984 2.98292636\n",
      " 3.04639288 3.10985939 3.17332591 3.23679243 3.30025895 3.36372547\n",
      " 3.42719199 3.4906585  3.55412502 3.61759154 3.68105806 3.74452458\n",
      " 3.8079911  3.87145761 3.93492413 3.99839065 4.06185717 4.12532369\n",
      " 4.1887902  4.25225672 4.31572324 4.37918976 4.44265628 4.5061228\n",
      " 4.56958931 4.63305583 4.69652235 4.75998887 4.82345539 4.88692191\n",
      " 4.95038842 5.01385494 5.07732146 5.14078798 5.2042545  5.26772102\n",
      " 5.33118753 5.39465405 5.45812057 5.52158709 5.58505361 5.64852012\n",
      " 5.71198664 5.77545316 5.83891968 5.9023862  5.96585272 6.02931923\n",
      " 6.09278575 6.15625227 6.21971879 6.28318531]\n",
      "[0.57119866 1.20586385 1.84052903 2.47519421 3.10985939 3.74452458\n",
      " 4.37918976 5.01385494 5.64852012 6.28318531]\n",
      "[6.28318531 6.21971879 6.15625227 6.09278575 6.02931923 5.96585272\n",
      " 5.9023862  5.83891968 5.77545316 5.71198664 5.64852012 5.58505361\n",
      " 5.52158709 5.45812057 5.39465405 5.33118753 5.26772102 5.2042545\n",
      " 5.14078798 5.07732146 5.01385494 4.95038842 4.88692191 4.82345539\n",
      " 4.75998887 4.69652235 4.63305583 4.56958931 4.5061228  4.44265628\n",
      " 4.37918976 4.31572324 4.25225672 4.1887902  4.12532369 4.06185717\n",
      " 3.99839065 3.93492413 3.87145761 3.8079911  3.74452458 3.68105806\n",
      " 3.61759154 3.55412502 3.4906585  3.42719199 3.36372547 3.30025895\n",
      " 3.23679243 3.17332591 3.10985939 3.04639288 2.98292636 2.91945984\n",
      " 2.85599332 2.7925268  2.72906028 2.66559377 2.60212725 2.53866073\n",
      " 2.47519421 2.41172769 2.34826118 2.28479466 2.22132814 2.15786162\n",
      " 2.0943951  2.03092858 1.96746207 1.90399555 1.84052903 1.77706251\n",
      " 1.71359599 1.65012947 1.58666296 1.52319644 1.45972992 1.3962634\n",
      " 1.33279688 1.26933037 1.20586385 1.14239733 1.07893081 1.01546429\n",
      " 0.95199777 0.88853126 0.82506474 0.76159822 0.6981317  0.63466518\n",
      " 0.57119866 0.50773215 0.44426563 0.38079911 0.31733259 0.25386607\n",
      " 0.19039955 0.12693304 0.06346652 0.        ]\n",
      "[0.76159822 0.82506474 3.87145761 3.93492413]\n"
     ]
    }
   ],
   "source": [
    "a = np.linspace(0, 2*np.pi, 100, endpoint=True)\n",
    "print(a)\n",
    "\n",
    "a_1 = a[9::10]\n",
    "print(a_1)\n",
    "\n",
    "a_2 = a[::-1]\n",
    "print(a_2)\n",
    "\n",
    "a_bool = (np.abs(np.sin(a)-np.cos(a)) < 0.1)\n",
    "a_3 = a[a_bool]\n",
    "print(a_3)"
   ]
  },
  {
   "cell_type": "code",
   "execution_count": 7,
   "metadata": {},
   "outputs": [
    {
     "data": {
      "image/png": "[encoded data removed]",
      "text/plain": [
       "<Figure size 432x288 with 1 Axes>"
      ]
     },
     "metadata": {
      "needs_background": "light"
     },
     "output_type": "display_data"
    }
   ],
   "source": [
    "sin_pi4 = np.sin(np.pi/4)\n",
    "plt.clf()\n",
    "plt.plot(a,np.sin(a),'o',markersize=0.5,label='sin(x)')\n",
    "plt.plot(a,np.cos(a),'o',markersize=0.5,label='cos(x)')\n",
    "plt.plot((0,2*np.pi),(sin_pi4+0.05,sin_pi4+0.05))\n",
    "plt.plot((0,2*np.pi),(sin_pi4-0.05,sin_pi4-0.05))\n",
    "plt.plot((0,2*np.pi),(-sin_pi4+0.05,-sin_pi4+0.05))\n",
    "plt.plot((0,2*np.pi),(-sin_pi4-0.05,-sin_pi4-0.05))\n",
    "plt.ylim(-1.5,1.5)\n",
    "plt.grid()\n",
    "plt.legend()\n",
    "plt.show()"
   ]
  },
  {
   "cell_type": "markdown",
   "metadata": {},
   "source": [
    "$$ \\alpha = \\frac{\\pi}{4}, \\ \\frac{5\\pi}{4} $$"
   ]
  },
  {
   "cell_type": "markdown",
   "metadata": {},
   "source": [
    "5\\. Create a matrix that shows the 10 by 10 multiplication table.\n",
    "\n",
    " * Find the trace of the matrix\n",
    " * Extract the anto-diagonal (this should be ```array([10, 18, 24, 28, 30, 30, 28, 24, 18, 10])```)\n",
    " * Extract the diagnoal offset by 1 upwards (this should be ```array([ 2,  6, 12, 20, 30, 42, 56, 72, 90])```)"
   ]
  },
  {
   "cell_type": "markdown",
   "metadata": {},
   "source": [
    "## Exercise 5 <a class=\"anchor\" id=\"03.5\"></a>\n",
    "* [Index](#03.i)"
   ]
  },
  {
   "cell_type": "code",
   "execution_count": 8,
   "metadata": {},
   "outputs": [
    {
     "name": "stdout",
     "output_type": "stream",
     "text": [
      "[[  1   2   3   4   5   6   7   8   9  10]\n",
      " [  2   4   6   8  10  12  14  16  18  20]\n",
      " [  3   6   9  12  15  18  21  24  27  30]\n",
      " [  4   8  12  16  20  24  28  32  36  40]\n",
      " [  5  10  15  20  25  30  35  40  45  50]\n",
      " [  6  12  18  24  30  36  42  48  54  60]\n",
      " [  7  14  21  28  35  42  49  56  63  70]\n",
      " [  8  16  24  32  40  48  56  64  72  80]\n",
      " [  9  18  27  36  45  54  63  72  81  90]\n",
      " [ 10  20  30  40  50  60  70  80  90 100]]\n",
      "385\n",
      "[10 18 24 28 30 30 28 24 18 10]\n",
      "[[ 2  3  4  5  6  7  8  9 10]\n",
      " [ 4  6  8 10 12 14 16 18 20]\n",
      " [ 6  9 12 15 18 21 24 27 30]\n",
      " [ 8 12 16 20 24 28 32 36 40]\n",
      " [10 15 20 25 30 35 40 45 50]\n",
      " [12 18 24 30 36 42 48 54 60]\n",
      " [14 21 28 35 42 49 56 63 70]\n",
      " [16 24 32 40 48 56 64 72 80]\n",
      " [18 27 36 45 54 63 72 81 90]]\n",
      "[ 2  6 12 20 30 42 56 72 90]\n"
     ]
    }
   ],
   "source": [
    "vector = np.linspace(1,10,10,endpoint=True,dtype=np.int32)\n",
    "matrix = np.outer(vector,vector)\n",
    "\n",
    "print(matrix)\n",
    "\n",
    "trace = np.trace(matrix)\n",
    "print(trace)\n",
    "\n",
    "diag = np.diag(np.fliplr(matrix))\n",
    "print(diag)\n",
    "\n",
    "matrix_2 = matrix[:-1,1:]\n",
    "print(matrix_2)\n",
    "diag_2 = np.diag(matrix_2)\n",
    "print(diag_2)"
   ]
  },
  {
   "cell_type": "markdown",
   "metadata": {},
   "source": [
    "6\\. Use broadcasting to create a grid of distances\n",
    "\n",
    "Route 66 crosses the following cities in the US: Chicago, Springfield, Saint-Louis, Tulsa, Oklahoma City, Amarillo, Santa Fe, Albuquerque, Flagstaff, Los Angeles\n",
    "The corresponding positions in miles are: 0, 198, 303, 736, 871, 1175, 1475, 1544, 1913, 2448\n",
    "\n",
    "  * Construct a 2D grid of distances among each city along Route 66\n",
    "  * Convert that in km (those savages...)"
   ]
  },
  {
   "cell_type": "markdown",
   "metadata": {},
   "source": [
    "## Exercise 6 <a class=\"anchor\" id=\"03.6\"></a>\n",
    "* [Index](#03.i)"
   ]
  },
  {
   "cell_type": "code",
   "execution_count": 9,
   "metadata": {},
   "outputs": [
    {
     "name": "stdout",
     "output_type": "stream",
     "text": [
      "[[    0.   198.   501.  1237.  2108.  3283.  4758.  6302.  8215. 10663.]\n",
      " [  198.     0.   501.  1237.  2108.  3283.  4758.  6302.  8215. 10663.]\n",
      " [  501.   501.     0.  1039.  1910.  3085.  4560.  6104.  8017. 10465.]\n",
      " [ 1237.  1237.  1039.     0.  1607.  2782.  4257.  5801.  7714. 10162.]\n",
      " [ 2108.  2108.  1910.  1607.     0.  2046.  3521.  5065.  6978.  9426.]\n",
      " [ 3283.  3283.  3085.  2782.  2046.     0.  2650.  4194.  6107.  8555.]\n",
      " [ 4758.  4758.  4560.  4257.  3521.  2650.     0.  3019.  4932.  7380.]\n",
      " [ 6302.  6302.  6104.  5801.  5065.  4194.  3019.     0.  3457.  5905.]\n",
      " [ 8215.  8215.  8017.  7714.  6978.  6107.  4932.  3457.     0.  4361.]\n",
      " [10663. 10663. 10465. 10162.  9426.  8555.  7380.  5905.  4361.     0.]]\n",
      "[[    0.           318.6507234    806.28289103  1990.76234772\n",
      "   3392.50366126  5283.48648953  7657.27344416 10142.10534786\n",
      "  13220.78632699 17160.46799813]\n",
      " [  318.6507234      0.           806.28289103  1990.76234772\n",
      "   3392.50366126  5283.48648953  7657.27344416 10142.10534786\n",
      "  13220.78632699 17160.46799813]\n",
      " [  806.28289103   806.28289103     0.          1672.11162431\n",
      "   3073.85293786  4964.83576613  7338.62272076  9823.45462446\n",
      "  12902.13560359 16841.81727473]\n",
      " [ 1990.76234772  1990.76234772  1672.11162431     0.\n",
      "   2586.22077023  4477.2035985   6850.99055313  9335.82245683\n",
      "  12414.50343596 16354.1851071 ]\n",
      " [ 3392.50366126  3392.50366126  3073.85293786  2586.22077023\n",
      "      0.          3292.72414182  5666.51109645  8151.34300014\n",
      "  11230.02397927 15169.70565042]\n",
      " [ 5283.48648953  5283.48648953  4964.83576613  4477.2035985\n",
      "   3292.72414182     0.          4264.7697829   6749.6016866\n",
      "   9828.28266572 13767.96433687]\n",
      " [ 7657.27344416  7657.27344416  7338.62272076  6850.99055313\n",
      "   5666.51109645  4264.7697829      0.          4858.61885833\n",
      "   7937.29983746 11876.9815086 ]\n",
      " [10142.10534786 10142.10534786  9823.45462446  9335.82245683\n",
      "   8151.34300014  6749.6016866   4858.61885833     0.\n",
      "   5563.51288282  9503.19455397]\n",
      " [13220.78632699 13220.78632699 12902.13560359 12414.50343596\n",
      "  11230.02397927  9828.28266572  7937.29983746  5563.51288282\n",
      "      0.          7018.36265027]\n",
      " [17160.46799813 17160.46799813 16841.81727473 16354.1851071\n",
      "  15169.70565042 13767.96433687 11876.9815086   9503.19455397\n",
      "   7018.36265027     0.        ]]\n"
     ]
    }
   ],
   "source": [
    "d = np.array([0, 198, 303, 736, 871, 1175, 1475, 1544, 1913, 2448])\n",
    "distance = np.ones((len(d),len(d)))\n",
    "\n",
    "for i in range(len(d)):\n",
    "    for j in range(len(d)):\n",
    "        if i > j:\n",
    "            distance[i,j] = np.sum(d[j:i+1])\n",
    "        if i < j:\n",
    "            distance[i,j] = np.sum(d[i:j+1])\n",
    "        if i == j:\n",
    "            distance[i,j] = 0\n",
    "print(distance)\n",
    "\n",
    "ml2km = 1/0.62137\n",
    "distance_km = ml2km*distance\n",
    "print(distance_km)"
   ]
  },
  {
   "cell_type": "markdown",
   "metadata": {},
   "source": [
    "7\\. Prime numbers sieve: compute the prime numbers in the 0-N (N=99 to start with) range with a sieve (mask).\n",
    "  * Constract a shape (100,) boolean array, the mask\n",
    "  * Identify the multiples of each number starting from 2 and set accordingly the corresponding mask element\n",
    "  * Apply the mask to obtain an array of ordered prime numbers\n",
    "  * Check the performances (timeit); how does it scale with N?\n",
    "  * Implement the optimization suggested in the [sieve of Eratosthenes](https://en.wikipedia.org/wiki/Sieve_of_Eratosthenes)"
   ]
  },
  {
   "cell_type": "markdown",
   "metadata": {},
   "source": [
    "## Exercise 7 <a class=\"anchor\" id=\"03.7\"></a>\n",
    "* [Index](#03.i)"
   ]
  },
  {
   "cell_type": "code",
   "execution_count": 10,
   "metadata": {},
   "outputs": [],
   "source": [
    "import time\n",
    "import matplotlib.pyplot as plt"
   ]
  },
  {
   "cell_type": "code",
   "execution_count": 11,
   "metadata": {},
   "outputs": [],
   "source": [
    "def prime_finder(N):\n",
    "    is_prime = np.array([True for i in range(N+1)])\n",
    "    nums = np.linspace(0,N,N+1,endpoint=True,dtype=np.int32)\n",
    "\n",
    "    for n in nums:\n",
    "        if n > 1:\n",
    "            for m in nums:\n",
    "                if m//n>1 and m%n==0:\n",
    "                    is_prime[m] = False\n",
    "\n",
    "    prime = nums[is_prime]\n",
    "    return prime"
   ]
  },
  {
   "cell_type": "code",
   "execution_count": 12,
   "metadata": {},
   "outputs": [],
   "source": [
    "ts = []\n",
    "xs = []\n",
    "for i in range(99,1000,10):\n",
    "    start = time.time()\n",
    "    prime_finder(i)\n",
    "    ts.append(time.time() - start)\n",
    "    xs.append(i)"
   ]
  },
  {
   "cell_type": "code",
   "execution_count": 13,
   "metadata": {},
   "outputs": [
    {
     "data": {
      "image/png": "[encoded data removed]",
      "text/plain": [
       "<Figure size 432x288 with 1 Axes>"
      ]
     },
     "metadata": {
      "needs_background": "light"
     },
     "output_type": "display_data"
    }
   ],
   "source": [
    "plt.clf()\n",
    "plt.plot(xs,ts,'o',markersize=2)\n",
    "plt.xlabel('n')\n",
    "plt.ylabel('t')\n",
    "plt.show()"
   ]
  },
  {
   "cell_type": "code",
   "execution_count": 14,
   "metadata": {},
   "outputs": [],
   "source": [
    "def erat_sieve(N):\n",
    "    is_prime = np.array([True for i in range(N+1)])\n",
    "    sqrt_N = int(np.ceil(np.sqrt(N)))\n",
    "    nums = np.arange(0,N+1,1)\n",
    "    \n",
    "    for i in range(2,sqrt_N):\n",
    "        if is_prime[i] == True:\n",
    "            for j in range(i**2,N+1,i):\n",
    "                is_prime[j] = False\n",
    "                #print(is_prime)\n",
    "    return nums[is_prime]"
   ]
  },
  {
   "cell_type": "code",
   "execution_count": 15,
   "metadata": {},
   "outputs": [
    {
     "name": "stdout",
     "output_type": "stream",
     "text": [
      "[ 0  1  2  3  5  7 11 13 17 19 23 29 31 37 41 43 47 53 59 61 67 71 73 79\n",
      " 83 89 97]\n"
     ]
    }
   ],
   "source": [
    "print(erat_sieve(100))\n",
    "\n",
    "ts = []\n",
    "xs = []\n",
    "for i in range(99999,1000000,50000):\n",
    "    start = time.time()\n",
    "    erat_sieve(i)\n",
    "    t = time.time() - start\n",
    "    ts.append(t)\n",
    "    xs.append(i)"
   ]
  },
  {
   "cell_type": "code",
   "execution_count": 16,
   "metadata": {},
   "outputs": [
    {
     "data": {
      "image/png": "[encoded data removed]",
      "text/plain": [
       "<Figure size 432x288 with 1 Axes>"
      ]
     },
     "metadata": {
      "needs_background": "light"
     },
     "output_type": "display_data"
    }
   ],
   "source": [
    "plt.clf()\n",
    "plt.plot(xs,ts,'o')\n",
    "plt.xlabel('n')\n",
    "plt.ylabel('t')\n",
    "plt.show()"
   ]
  },
  {
   "cell_type": "markdown",
   "metadata": {},
   "source": [
    "8\\. Diffusion using random walk\n",
    "\n",
    "Consider a simple random walk process: at each step in time, a walker jumps right or left (+1 or -1) with equal probability. The goal is to find the typical distance from the origin of a random walker after a given amount of time. \n",
    "To do that, let's simulate many walkers and create a 2D array with each walker as a raw and the actual time evolution as columns\n",
    "\n",
    "  * Take 1000 walkers and let them walk for 200 steps\n",
    "  * Use randint to create a 2D array of size walkers x steps with values -1 or 1\n",
    "  * Build the actual walking distances for each walker (i.e. another 2D array \"summing on each raw\")\n",
    "  * Take the square of that 2D array (elementwise)\n",
    "  * Compute the mean of the squared distances at each step (i.e. the mean along the columns)\n",
    "  * Plot the average distances (sqrt(distance\\*\\*2)) as a function of time (step)\n",
    "  \n",
    "Did you get what you expected?"
   ]
  },
  {
   "cell_type": "markdown",
   "metadata": {},
   "source": [
    "## Exercise 8 <a class=\"anchor\" id=\"03.8\"></a>\n",
    "* [Index](#03.i)"
   ]
  },
  {
   "cell_type": "code",
   "execution_count": 17,
   "metadata": {},
   "outputs": [],
   "source": [
    "import matplotlib.pyplot as plt\n",
    "import numpy.random as npr"
   ]
  },
  {
   "cell_type": "code",
   "execution_count": 18,
   "metadata": {},
   "outputs": [
    {
     "name": "stdout",
     "output_type": "stream",
     "text": [
      "[[-1  1 -1 ... -1  1 -1]\n",
      " [ 1  1 -1 ...  1 -1 -1]\n",
      " [ 1  1 -1 ... -1 -1  1]\n",
      " ...\n",
      " [-1  1  1 ... -1  1  1]\n",
      " [-1 -1 -1 ...  1 -1 -1]\n",
      " [-1  1 -1 ... -1  1 -1]]\n",
      "200\n",
      "[[  0  -1   0 ...  -3  -4  -3]\n",
      " [  0   1   2 ...  17  18  17]\n",
      " [  0   1   2 ...  17  16  15]\n",
      " ...\n",
      " [  0  -1   0 ... -17 -18 -17]\n",
      " [  0  -1  -2 ...   3   4   3]\n",
      " [  0  -1   0 ...  25  24  25]]\n"
     ]
    }
   ],
   "source": [
    "npr.seed(123)\n",
    "\n",
    "n_w = 1000\n",
    "n_t = 200\n",
    "\n",
    "ws = np.random.randint(2,size=(n_w,n_t))\n",
    "ws[ws == 0] = -1\n",
    "print(ws)\n",
    "\n",
    "ds = np.copy(ws)\n",
    "print(ws.shape[1])\n",
    "for i in range(ws.shape[1]):\n",
    "    ds[:,i] = np.sum(ws[:,:i],axis=1)\n",
    "print(ds)"
   ]
  },
  {
   "cell_type": "code",
   "execution_count": 19,
   "metadata": {},
   "outputs": [
    {
     "data": {
      "image/png": "[encoded data removed]",
      "text/plain": [
       "<Figure size 432x288 with 1 Axes>"
      ]
     },
     "metadata": {
      "needs_background": "light"
     },
     "output_type": "display_data"
    }
   ],
   "source": [
    "plt.clf()\n",
    "for i in range(30):\n",
    "    plt.plot(range(1,n_t+1),ds[i,:],'o',markersize=0.5)\n",
    "plt.show()"
   ]
  },
  {
   "cell_type": "code",
   "execution_count": 20,
   "metadata": {},
   "outputs": [],
   "source": [
    "ds2 = ds**2\n",
    "# print(ds2)\n",
    "\n",
    "mean_ds2 = np.mean(ds2,axis=0)\n",
    "# print(mean_ds2)\n",
    "\n",
    "avg_ds = np.sqrt(mean_ds2)\n",
    "# print(avg_ds)"
   ]
  },
  {
   "cell_type": "code",
   "execution_count": 21,
   "metadata": {},
   "outputs": [
    {
     "data": {
      "image/png": "[encoded data removed]",
      "text/plain": [
       "<Figure size 432x288 with 1 Axes>"
      ]
     },
     "metadata": {
      "needs_background": "light"
     },
     "output_type": "display_data"
    }
   ],
   "source": [
    "plt.clf()\n",
    "plt.plot(avg_ds,'o',markersize=1)\n",
    "plt.plot(np.sqrt(np.arange(0,n_t)),markersize=1)    # Expected d ~ sqrt(t)\n",
    "plt.xlabel('t')\n",
    "plt.ylabel('d')\n",
    "plt.show()"
   ]
  },
  {
   "cell_type": "markdown",
   "metadata": {},
   "source": [
    "9\\. Analyze a data file \n",
    "  * Download the population of hares, lynxes and carrots at the beginning of the last century.\n",
    "    ```python\n",
    "    ! wget https://www.dropbox.com/s/3vigxoqayo389uc/populations.txt\n",
    "    ```\n",
    "\n",
    "  * Check the content by looking within the file\n",
    "  * Load the data (use an appropriate numpy method) into a 2D array\n",
    "  * Create arrays out of the columns, the arrays being (in order): *year*, *hares*, *lynxes*, *carrots* \n",
    "  * Plot the 3 populations over the years\n",
    "  * Compute the main statistical properties of the dataset (mean, std, correlations, etc.)\n",
    "  * Which species has the highest population each year?\n",
    "\n",
    "Do you feel there is some evident correlation here? [Studies](https://www.enr.gov.nt.ca/en/services/lynx/lynx-snowshoe-hare-cycle) tend to believe so."
   ]
  },
  {
   "cell_type": "markdown",
   "metadata": {},
   "source": [
    "## Exercise 9 <a class=\"anchor\" id=\"03.9\"></a>\n",
    "* [Index](#03.i)"
   ]
  },
  {
   "cell_type": "code",
   "execution_count": 22,
   "metadata": {},
   "outputs": [],
   "source": [
    "import matplotlib.pyplot as plt"
   ]
  },
  {
   "cell_type": "code",
   "execution_count": 23,
   "metadata": {},
   "outputs": [],
   "source": [
    "import os.path\n",
    "\n",
    "if not os.path.isfile('data/03ex/populations.txt'):\n",
    "    !wget wget https://www.dropbox.com/s/3vigxoqayo389uc/populations.txt -P data/03ex/"
   ]
  },
  {
   "cell_type": "code",
   "execution_count": 24,
   "metadata": {},
   "outputs": [],
   "source": [
    "data = np.loadtxt('data/03ex/populations.txt')\n",
    "\n",
    "year = data[:,0]\n",
    "hare = data[:,1]\n",
    "lynx = data[:,2]\n",
    "carr = data[:,3]"
   ]
  },
  {
   "cell_type": "code",
   "execution_count": 25,
   "metadata": {},
   "outputs": [
    {
     "data": {
      "image/png": "[encoded data removed]",
      "text/plain": [
       "<Figure size 432x288 with 1 Axes>"
      ]
     },
     "metadata": {
      "needs_background": "light"
     },
     "output_type": "display_data"
    }
   ],
   "source": [
    "plt.clf()\n",
    "plt.plot(year,hare,label='hares')\n",
    "plt.plot(year,lynx,label='lynxes')\n",
    "plt.plot(year,carr,label='carrots')\n",
    "plt.legend()\n",
    "plt.show()"
   ]
  },
  {
   "cell_type": "code",
   "execution_count": 26,
   "metadata": {},
   "outputs": [
    {
     "name": "stdout",
     "output_type": "stream",
     "text": [
      "[34080.95238095 20166.66666667 42400.        ]\n",
      "[20897.90645809 16254.59153691  3322.50622558]\n",
      "[[ 1.          0.07189206 -0.01660378]\n",
      " [ 0.07189206  1.         -0.68057717]\n",
      " [-0.01660378 -0.68057717  1.        ]]\n"
     ]
    },
    {
     "data": {
      "image/png": "[encoded data removed]",
      "text/plain": [
       "<Figure size 432x288 with 2 Axes>"
      ]
     },
     "metadata": {
      "needs_background": "light"
     },
     "output_type": "display_data"
    }
   ],
   "source": [
    "means = np.mean(data[:,1:],axis=0)\n",
    "stds = np.std(data[:,1:],axis=0)\n",
    "corrs = np.corrcoef(data[:,1:],rowvar=False)\n",
    "\n",
    "print(means)\n",
    "print(stds)\n",
    "print(corrs)\n",
    "\n",
    "plt.clf()\n",
    "plt.imshow(np.abs(corrs), cmap=plt.cm.hot)    \n",
    "plt.colorbar()\n",
    "plt.show()"
   ]
  }
 ],
 "metadata": {
  "kernelspec": {
   "display_name": "Python 3",
   "language": "python",
   "name": "python3"
  },
  "language_info": {
   "codemirror_mode": {
    "name": "ipython",
    "version": 3
   },
   "file_extension": ".py",
   "mimetype": "text/x-python",
   "name": "python",
   "nbconvert_exporter": "python",
   "pygments_lexer": "ipython3",
   "version": "3.7.6"
  }
 },
 "nbformat": 4,
 "nbformat_minor": 4
}
